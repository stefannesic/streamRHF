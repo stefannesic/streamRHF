{
 "cells": [
  {
   "cell_type": "markdown",
   "metadata": {},
   "source": [
    "# Random Histogram Forest"
   ]
  },
  {
   "cell_type": "code",
   "execution_count": 2,
   "metadata": {},
   "outputs": [],
   "source": [
    "from timeit import timeit\n",
    "from sklearn.metrics import average_precision_score\n",
    "import math\n",
    "import scipy.io as sio\n",
    "import scipy.stats as sstats\n",
    "import random \n",
    "import numpy as np\n",
    "import rht\n",
    "import rhf\n",
    "import anomaly_score as a_s\n",
    "import Node"
   ]
  },
  {
   "cell_type": "markdown",
   "metadata": {},
   "source": [
    "## Execution time with satellite, cardio, and musk datasets"
   ]
  },
  {
   "cell_type": "markdown",
   "metadata": {},
   "source": [
    "### Execution time for fixed parameters"
   ]
  },
  {
   "cell_type": "code",
   "execution_count": 7,
   "metadata": {},
   "outputs": [
    {
     "ename": "KeyboardInterrupt",
     "evalue": "",
     "output_type": "error",
     "traceback": [
      "\u001b[0;31m---------------------------------------------------------------------------\u001b[0m",
      "\u001b[0;31mKeyboardInterrupt\u001b[0m                         Traceback (most recent call last)",
      "\u001b[0;32m<ipython-input-7-f198c16787ca>\u001b[0m in \u001b[0;36m<module>\u001b[0;34m\u001b[0m\n\u001b[1;32m     24\u001b[0m '''\n\u001b[1;32m     25\u001b[0m \u001b[0;32mfor\u001b[0m \u001b[0mi\u001b[0m \u001b[0;32min\u001b[0m \u001b[0mrange\u001b[0m\u001b[0;34m(\u001b[0m\u001b[0;36m0\u001b[0m\u001b[0;34m,\u001b[0m\u001b[0;36m3\u001b[0m\u001b[0;34m)\u001b[0m\u001b[0;34m:\u001b[0m\u001b[0;34m\u001b[0m\u001b[0;34m\u001b[0m\u001b[0m\n\u001b[0;32m---> 26\u001b[0;31m     \u001b[0mprint\u001b[0m\u001b[0;34m(\u001b[0m\u001b[0;34m\"Total time for rhf-cython (train) = \"\u001b[0m\u001b[0;34m,\u001b[0m \u001b[0mtimeit\u001b[0m\u001b[0;34m(\u001b[0m\u001b[0msetup\u001b[0m\u001b[0;34m=\u001b[0m\u001b[0msetup_code\u001b[0m\u001b[0;34m,\u001b[0m \u001b[0mstmt\u001b[0m\u001b[0;34m=\u001b[0m\u001b[0mcode\u001b[0m\u001b[0;34m,\u001b[0m \u001b[0mnumber\u001b[0m\u001b[0;34m=\u001b[0m\u001b[0;36m1\u001b[0m\u001b[0;34m)\u001b[0m\u001b[0;34m)\u001b[0m\u001b[0;34m\u001b[0m\u001b[0;34m\u001b[0m\u001b[0m\n\u001b[0m",
      "\u001b[0;32m~/anaconda3/lib/python3.8/timeit.py\u001b[0m in \u001b[0;36mtimeit\u001b[0;34m(stmt, setup, timer, number, globals)\u001b[0m\n\u001b[1;32m    231\u001b[0m            number=default_number, globals=None):\n\u001b[1;32m    232\u001b[0m     \u001b[0;34m\"\"\"Convenience function to create Timer object and call timeit method.\"\"\"\u001b[0m\u001b[0;34m\u001b[0m\u001b[0;34m\u001b[0m\u001b[0m\n\u001b[0;32m--> 233\u001b[0;31m     \u001b[0;32mreturn\u001b[0m \u001b[0mTimer\u001b[0m\u001b[0;34m(\u001b[0m\u001b[0mstmt\u001b[0m\u001b[0;34m,\u001b[0m \u001b[0msetup\u001b[0m\u001b[0;34m,\u001b[0m \u001b[0mtimer\u001b[0m\u001b[0;34m,\u001b[0m \u001b[0mglobals\u001b[0m\u001b[0;34m)\u001b[0m\u001b[0;34m.\u001b[0m\u001b[0mtimeit\u001b[0m\u001b[0;34m(\u001b[0m\u001b[0mnumber\u001b[0m\u001b[0;34m)\u001b[0m\u001b[0;34m\u001b[0m\u001b[0;34m\u001b[0m\u001b[0m\n\u001b[0m\u001b[1;32m    234\u001b[0m \u001b[0;34m\u001b[0m\u001b[0m\n\u001b[1;32m    235\u001b[0m def repeat(stmt=\"pass\", setup=\"pass\", timer=default_timer,\n",
      "\u001b[0;32m~/anaconda3/lib/python3.8/timeit.py\u001b[0m in \u001b[0;36mtimeit\u001b[0;34m(self, number)\u001b[0m\n\u001b[1;32m    175\u001b[0m         \u001b[0mgc\u001b[0m\u001b[0;34m.\u001b[0m\u001b[0mdisable\u001b[0m\u001b[0;34m(\u001b[0m\u001b[0;34m)\u001b[0m\u001b[0;34m\u001b[0m\u001b[0;34m\u001b[0m\u001b[0m\n\u001b[1;32m    176\u001b[0m         \u001b[0;32mtry\u001b[0m\u001b[0;34m:\u001b[0m\u001b[0;34m\u001b[0m\u001b[0;34m\u001b[0m\u001b[0m\n\u001b[0;32m--> 177\u001b[0;31m             \u001b[0mtiming\u001b[0m \u001b[0;34m=\u001b[0m \u001b[0mself\u001b[0m\u001b[0;34m.\u001b[0m\u001b[0minner\u001b[0m\u001b[0;34m(\u001b[0m\u001b[0mit\u001b[0m\u001b[0;34m,\u001b[0m \u001b[0mself\u001b[0m\u001b[0;34m.\u001b[0m\u001b[0mtimer\u001b[0m\u001b[0;34m)\u001b[0m\u001b[0;34m\u001b[0m\u001b[0;34m\u001b[0m\u001b[0m\n\u001b[0m\u001b[1;32m    178\u001b[0m         \u001b[0;32mfinally\u001b[0m\u001b[0;34m:\u001b[0m\u001b[0;34m\u001b[0m\u001b[0;34m\u001b[0m\u001b[0m\n\u001b[1;32m    179\u001b[0m             \u001b[0;32mif\u001b[0m \u001b[0mgcold\u001b[0m\u001b[0;34m:\u001b[0m\u001b[0;34m\u001b[0m\u001b[0;34m\u001b[0m\u001b[0m\n",
      "\u001b[0;32m~/anaconda3/lib/python3.8/timeit.py\u001b[0m in \u001b[0;36minner\u001b[0;34m(_it, _timer)\u001b[0m\n",
      "\u001b[0;32m~/Documents/telecom_paris/cdd/rhf/rhf-cython/rhf.pyx\u001b[0m in \u001b[0;36mrhf.rhf\u001b[0;34m()\u001b[0m\n\u001b[1;32m      2\u001b[0m \u001b[0;34m\u001b[0m\u001b[0m\n\u001b[1;32m      3\u001b[0m \u001b[0;31m# construction of a random histogram forest\u001b[0m\u001b[0;34m\u001b[0m\u001b[0;34m\u001b[0m\u001b[0;34m\u001b[0m\u001b[0m\n\u001b[0;32m----> 4\u001b[0;31m \u001b[0mcpdef\u001b[0m \u001b[0mrhf\u001b[0m\u001b[0;34m(\u001b[0m\u001b[0mX\u001b[0m\u001b[0;34m,\u001b[0m \u001b[0mint\u001b[0m \u001b[0mt\u001b[0m\u001b[0;34m,\u001b[0m \u001b[0mint\u001b[0m \u001b[0mnd\u001b[0m\u001b[0;34m,\u001b[0m \u001b[0mint\u001b[0m \u001b[0mh\u001b[0m\u001b[0;34m)\u001b[0m\u001b[0;34m:\u001b[0m\u001b[0;34m\u001b[0m\u001b[0;34m\u001b[0m\u001b[0m\n\u001b[0m\u001b[1;32m      5\u001b[0m     \u001b[0;31m# create an empty forest\u001b[0m\u001b[0;34m\u001b[0m\u001b[0;34m\u001b[0m\u001b[0;34m\u001b[0m\u001b[0m\n\u001b[1;32m      6\u001b[0m     \u001b[0mrhf\u001b[0m \u001b[0;34m=\u001b[0m \u001b[0mnp\u001b[0m\u001b[0;34m.\u001b[0m\u001b[0mempty\u001b[0m\u001b[0;34m(\u001b[0m\u001b[0;34m[\u001b[0m\u001b[0mt\u001b[0m\u001b[0;34m]\u001b[0m\u001b[0;34m,\u001b[0m \u001b[0mdtype\u001b[0m\u001b[0;34m=\u001b[0m\u001b[0mobject\u001b[0m\u001b[0;34m)\u001b[0m\u001b[0;34m\u001b[0m\u001b[0;34m\u001b[0m\u001b[0m\n",
      "\u001b[0;32m~/Documents/telecom_paris/cdd/rhf/rhf-cython/rhf.pyx\u001b[0m in \u001b[0;36mrhf.rhf\u001b[0;34m()\u001b[0m\n\u001b[1;32m      8\u001b[0m     \u001b[0;31m# append t random histogram trees\u001b[0m\u001b[0;34m\u001b[0m\u001b[0;34m\u001b[0m\u001b[0;34m\u001b[0m\u001b[0m\n\u001b[1;32m      9\u001b[0m     \u001b[0;32mfor\u001b[0m \u001b[0mi\u001b[0m \u001b[0;32min\u001b[0m \u001b[0mrange\u001b[0m\u001b[0;34m(\u001b[0m\u001b[0mt\u001b[0m\u001b[0;34m)\u001b[0m\u001b[0;34m:\u001b[0m\u001b[0;34m\u001b[0m\u001b[0;34m\u001b[0m\u001b[0m\n\u001b[0;32m---> 10\u001b[0;31m         \u001b[0mrhf\u001b[0m\u001b[0;34m[\u001b[0m\u001b[0mi\u001b[0m\u001b[0;34m]\u001b[0m \u001b[0;34m=\u001b[0m \u001b[0mrht\u001b[0m\u001b[0;34m.\u001b[0m\u001b[0mrht\u001b[0m\u001b[0;34m(\u001b[0m\u001b[0mX\u001b[0m\u001b[0;34m,\u001b[0m \u001b[0mnd\u001b[0m\u001b[0;34m,\u001b[0m \u001b[0mh\u001b[0m\u001b[0;34m)\u001b[0m\u001b[0;34m\u001b[0m\u001b[0;34m\u001b[0m\u001b[0m\n\u001b[0m\u001b[1;32m     11\u001b[0m \u001b[0;34m\u001b[0m\u001b[0m\n\u001b[1;32m     12\u001b[0m     \u001b[0;32mreturn\u001b[0m \u001b[0mrhf\u001b[0m\u001b[0;34m\u001b[0m\u001b[0;34m\u001b[0m\u001b[0m\n",
      "\u001b[0;32m~/Documents/telecom_paris/cdd/rhf/rhf-cython/rht.pyx\u001b[0m in \u001b[0;36mrht.rht\u001b[0;34m()\u001b[0m\n\u001b[1;32m      2\u001b[0m \u001b[0;34m\u001b[0m\u001b[0m\n\u001b[1;32m      3\u001b[0m \u001b[0;31m# Construction of a random histogram tree\u001b[0m\u001b[0;34m\u001b[0m\u001b[0;34m\u001b[0m\u001b[0;34m\u001b[0m\u001b[0m\n\u001b[0;32m----> 4\u001b[0;31m \u001b[0mcpdef\u001b[0m \u001b[0mrht\u001b[0m\u001b[0;34m(\u001b[0m\u001b[0mX\u001b[0m\u001b[0;34m,\u001b[0m \u001b[0mint\u001b[0m \u001b[0mnd\u001b[0m\u001b[0;34m,\u001b[0m \u001b[0mint\u001b[0m \u001b[0mh\u001b[0m\u001b[0;34m)\u001b[0m\u001b[0;34m:\u001b[0m\u001b[0;34m\u001b[0m\u001b[0;34m\u001b[0m\u001b[0m\n\u001b[0m\u001b[1;32m      5\u001b[0m     \u001b[0mcdef\u001b[0m \u001b[0mfloat\u001b[0m \u001b[0mr\u001b[0m\u001b[0;34m,\u001b[0m \u001b[0mks\u001b[0m\u001b[0;34m,\u001b[0m \u001b[0ma_val\u001b[0m\u001b[0;34m\u001b[0m\u001b[0;34m\u001b[0m\u001b[0m\n\u001b[1;32m      6\u001b[0m     \u001b[0mcdef\u001b[0m \u001b[0mint\u001b[0m \u001b[0ma\u001b[0m\u001b[0;34m\u001b[0m\u001b[0;34m\u001b[0m\u001b[0m\n",
      "\u001b[0;32m~/Documents/telecom_paris/cdd/rhf/rhf-cython/rht.pyx\u001b[0m in \u001b[0;36mrht.rht\u001b[0;34m()\u001b[0m\n\u001b[1;32m     22\u001b[0m         \u001b[0mXr\u001b[0m \u001b[0;34m=\u001b[0m \u001b[0mX\u001b[0m\u001b[0;34m[\u001b[0m\u001b[0mX\u001b[0m\u001b[0;34m[\u001b[0m\u001b[0;34m:\u001b[0m\u001b[0;34m,\u001b[0m \u001b[0ma\u001b[0m\u001b[0;34m]\u001b[0m \u001b[0;34m>=\u001b[0m \u001b[0ma_val\u001b[0m\u001b[0;34m]\u001b[0m\u001b[0;34m\u001b[0m\u001b[0;34m\u001b[0m\u001b[0m\n\u001b[1;32m     23\u001b[0m \u001b[0;34m\u001b[0m\u001b[0m\n\u001b[0;32m---> 24\u001b[0;31m         \u001b[0mXl\u001b[0m \u001b[0;34m=\u001b[0m \u001b[0mrht\u001b[0m\u001b[0;34m(\u001b[0m\u001b[0mXl\u001b[0m\u001b[0;34m,\u001b[0m \u001b[0mnd\u001b[0m \u001b[0;34m+\u001b[0m \u001b[0;36m1\u001b[0m\u001b[0;34m,\u001b[0m \u001b[0mh\u001b[0m\u001b[0;34m)\u001b[0m\u001b[0;34m\u001b[0m\u001b[0;34m\u001b[0m\u001b[0m\n\u001b[0m\u001b[1;32m     25\u001b[0m         \u001b[0mXr\u001b[0m \u001b[0;34m=\u001b[0m \u001b[0mrht\u001b[0m\u001b[0;34m(\u001b[0m\u001b[0mXr\u001b[0m\u001b[0;34m,\u001b[0m \u001b[0mnd\u001b[0m \u001b[0;34m+\u001b[0m \u001b[0;36m1\u001b[0m\u001b[0;34m,\u001b[0m \u001b[0mh\u001b[0m\u001b[0;34m)\u001b[0m\u001b[0;34m\u001b[0m\u001b[0;34m\u001b[0m\u001b[0m\n\u001b[1;32m     26\u001b[0m \u001b[0;34m\u001b[0m\u001b[0m\n",
      "\u001b[0;32m~/Documents/telecom_paris/cdd/rhf/rhf-cython/rht.pyx\u001b[0m in \u001b[0;36mrht.rht\u001b[0;34m()\u001b[0m\n\u001b[1;32m     22\u001b[0m         \u001b[0mXr\u001b[0m \u001b[0;34m=\u001b[0m \u001b[0mX\u001b[0m\u001b[0;34m[\u001b[0m\u001b[0mX\u001b[0m\u001b[0;34m[\u001b[0m\u001b[0;34m:\u001b[0m\u001b[0;34m,\u001b[0m \u001b[0ma\u001b[0m\u001b[0;34m]\u001b[0m \u001b[0;34m>=\u001b[0m \u001b[0ma_val\u001b[0m\u001b[0;34m]\u001b[0m\u001b[0;34m\u001b[0m\u001b[0;34m\u001b[0m\u001b[0m\n\u001b[1;32m     23\u001b[0m \u001b[0;34m\u001b[0m\u001b[0m\n\u001b[0;32m---> 24\u001b[0;31m         \u001b[0mXl\u001b[0m \u001b[0;34m=\u001b[0m \u001b[0mrht\u001b[0m\u001b[0;34m(\u001b[0m\u001b[0mXl\u001b[0m\u001b[0;34m,\u001b[0m \u001b[0mnd\u001b[0m \u001b[0;34m+\u001b[0m \u001b[0;36m1\u001b[0m\u001b[0;34m,\u001b[0m \u001b[0mh\u001b[0m\u001b[0;34m)\u001b[0m\u001b[0;34m\u001b[0m\u001b[0;34m\u001b[0m\u001b[0m\n\u001b[0m\u001b[1;32m     25\u001b[0m         \u001b[0mXr\u001b[0m \u001b[0;34m=\u001b[0m \u001b[0mrht\u001b[0m\u001b[0;34m(\u001b[0m\u001b[0mXr\u001b[0m\u001b[0;34m,\u001b[0m \u001b[0mnd\u001b[0m \u001b[0;34m+\u001b[0m \u001b[0;36m1\u001b[0m\u001b[0;34m,\u001b[0m \u001b[0mh\u001b[0m\u001b[0;34m)\u001b[0m\u001b[0;34m\u001b[0m\u001b[0;34m\u001b[0m\u001b[0m\n\u001b[1;32m     26\u001b[0m \u001b[0;34m\u001b[0m\u001b[0m\n",
      "\u001b[0;32m~/Documents/telecom_paris/cdd/rhf/rhf-cython/rht.pyx\u001b[0m in \u001b[0;36mrht.rht\u001b[0;34m()\u001b[0m\n\u001b[1;32m     22\u001b[0m         \u001b[0mXr\u001b[0m \u001b[0;34m=\u001b[0m \u001b[0mX\u001b[0m\u001b[0;34m[\u001b[0m\u001b[0mX\u001b[0m\u001b[0;34m[\u001b[0m\u001b[0;34m:\u001b[0m\u001b[0;34m,\u001b[0m \u001b[0ma\u001b[0m\u001b[0;34m]\u001b[0m \u001b[0;34m>=\u001b[0m \u001b[0ma_val\u001b[0m\u001b[0;34m]\u001b[0m\u001b[0;34m\u001b[0m\u001b[0;34m\u001b[0m\u001b[0m\n\u001b[1;32m     23\u001b[0m \u001b[0;34m\u001b[0m\u001b[0m\n\u001b[0;32m---> 24\u001b[0;31m         \u001b[0mXl\u001b[0m \u001b[0;34m=\u001b[0m \u001b[0mrht\u001b[0m\u001b[0;34m(\u001b[0m\u001b[0mXl\u001b[0m\u001b[0;34m,\u001b[0m \u001b[0mnd\u001b[0m \u001b[0;34m+\u001b[0m \u001b[0;36m1\u001b[0m\u001b[0;34m,\u001b[0m \u001b[0mh\u001b[0m\u001b[0;34m)\u001b[0m\u001b[0;34m\u001b[0m\u001b[0;34m\u001b[0m\u001b[0m\n\u001b[0m\u001b[1;32m     25\u001b[0m         \u001b[0mXr\u001b[0m \u001b[0;34m=\u001b[0m \u001b[0mrht\u001b[0m\u001b[0;34m(\u001b[0m\u001b[0mXr\u001b[0m\u001b[0;34m,\u001b[0m \u001b[0mnd\u001b[0m \u001b[0;34m+\u001b[0m \u001b[0;36m1\u001b[0m\u001b[0;34m,\u001b[0m \u001b[0mh\u001b[0m\u001b[0;34m)\u001b[0m\u001b[0;34m\u001b[0m\u001b[0;34m\u001b[0m\u001b[0m\n\u001b[1;32m     26\u001b[0m \u001b[0;34m\u001b[0m\u001b[0m\n",
      "\u001b[0;32m~/Documents/telecom_paris/cdd/rhf/rhf-cython/rht.pyx\u001b[0m in \u001b[0;36mrht.rht\u001b[0;34m()\u001b[0m\n\u001b[1;32m     23\u001b[0m \u001b[0;34m\u001b[0m\u001b[0m\n\u001b[1;32m     24\u001b[0m         \u001b[0mXl\u001b[0m \u001b[0;34m=\u001b[0m \u001b[0mrht\u001b[0m\u001b[0;34m(\u001b[0m\u001b[0mXl\u001b[0m\u001b[0;34m,\u001b[0m \u001b[0mnd\u001b[0m \u001b[0;34m+\u001b[0m \u001b[0;36m1\u001b[0m\u001b[0;34m,\u001b[0m \u001b[0mh\u001b[0m\u001b[0;34m)\u001b[0m\u001b[0;34m\u001b[0m\u001b[0;34m\u001b[0m\u001b[0m\n\u001b[0;32m---> 25\u001b[0;31m         \u001b[0mXr\u001b[0m \u001b[0;34m=\u001b[0m \u001b[0mrht\u001b[0m\u001b[0;34m(\u001b[0m\u001b[0mXr\u001b[0m\u001b[0;34m,\u001b[0m \u001b[0mnd\u001b[0m \u001b[0;34m+\u001b[0m \u001b[0;36m1\u001b[0m\u001b[0;34m,\u001b[0m \u001b[0mh\u001b[0m\u001b[0;34m)\u001b[0m\u001b[0;34m\u001b[0m\u001b[0;34m\u001b[0m\u001b[0m\n\u001b[0m\u001b[1;32m     26\u001b[0m \u001b[0;34m\u001b[0m\u001b[0m\n\u001b[1;32m     27\u001b[0m         \u001b[0;32mreturn\u001b[0m \u001b[0mNode\u001b[0m\u001b[0;34m.\u001b[0m\u001b[0mNode\u001b[0m\u001b[0;34m(\u001b[0m\u001b[0ma_val\u001b[0m\u001b[0;34m,\u001b[0m \u001b[0ma\u001b[0m\u001b[0;34m,\u001b[0m \u001b[0mXl\u001b[0m\u001b[0;34m,\u001b[0m \u001b[0mXr\u001b[0m\u001b[0;34m)\u001b[0m\u001b[0;34m\u001b[0m\u001b[0;34m\u001b[0m\u001b[0m\n",
      "\u001b[0;32m~/Documents/telecom_paris/cdd/rhf/rhf-cython/rht.pyx\u001b[0m in \u001b[0;36mrht.rht\u001b[0;34m()\u001b[0m\n\u001b[1;32m     17\u001b[0m         \u001b[0;31m# ks may not be included depending on rounding\u001b[0m\u001b[0;34m\u001b[0m\u001b[0;34m\u001b[0m\u001b[0;34m\u001b[0m\u001b[0m\n\u001b[1;32m     18\u001b[0m         \u001b[0mr\u001b[0m \u001b[0;34m=\u001b[0m \u001b[0mrandom\u001b[0m\u001b[0;34m.\u001b[0m\u001b[0muniform\u001b[0m\u001b[0;34m(\u001b[0m\u001b[0;36m0\u001b[0m\u001b[0;34m,\u001b[0m \u001b[0mks\u001b[0m\u001b[0;34m)\u001b[0m\u001b[0;34m\u001b[0m\u001b[0;34m\u001b[0m\u001b[0m\n\u001b[0;32m---> 19\u001b[0;31m         \u001b[0ma\u001b[0m\u001b[0;34m,\u001b[0m \u001b[0ma_col\u001b[0m\u001b[0;34m,\u001b[0m \u001b[0ma_val\u001b[0m \u001b[0;34m=\u001b[0m \u001b[0mga\u001b[0m\u001b[0;34m.\u001b[0m\u001b[0mget_attribute\u001b[0m\u001b[0;34m(\u001b[0m\u001b[0mX\u001b[0m\u001b[0;34m,\u001b[0m \u001b[0mr\u001b[0m\u001b[0;34m)\u001b[0m\u001b[0;34m\u001b[0m\u001b[0;34m\u001b[0m\u001b[0m\n\u001b[0m\u001b[1;32m     20\u001b[0m \u001b[0;34m\u001b[0m\u001b[0m\n\u001b[1;32m     21\u001b[0m         \u001b[0mXl\u001b[0m \u001b[0;34m=\u001b[0m \u001b[0mX\u001b[0m\u001b[0;34m[\u001b[0m\u001b[0mX\u001b[0m\u001b[0;34m[\u001b[0m\u001b[0;34m:\u001b[0m\u001b[0;34m,\u001b[0m \u001b[0ma\u001b[0m\u001b[0;34m]\u001b[0m \u001b[0;34m<\u001b[0m \u001b[0ma_val\u001b[0m\u001b[0;34m]\u001b[0m\u001b[0;34m\u001b[0m\u001b[0;34m\u001b[0m\u001b[0m\n",
      "\u001b[0;32m~/Documents/telecom_paris/cdd/rhf/rhf-cython/get_attribute.pyx\u001b[0m in \u001b[0;36mget_attribute.get_attribute\u001b[0;34m()\u001b[0m\n\u001b[1;32m      3\u001b[0m \u001b[0;31m# use kurtosis sum to get best attribute for the split\u001b[0m\u001b[0;34m\u001b[0m\u001b[0;34m\u001b[0m\u001b[0;34m\u001b[0m\u001b[0m\n\u001b[1;32m      4\u001b[0m \u001b[0;31m# returns attribute, its column and a random split value\u001b[0m\u001b[0;34m\u001b[0m\u001b[0;34m\u001b[0m\u001b[0;34m\u001b[0m\u001b[0m\n\u001b[0;32m----> 5\u001b[0;31m \u001b[0mcpdef\u001b[0m \u001b[0mget_attribute\u001b[0m\u001b[0;34m(\u001b[0m\u001b[0mfloat\u001b[0m\u001b[0;34m[\u001b[0m\u001b[0;34m:\u001b[0m\u001b[0;34m,\u001b[0m\u001b[0;34m:\u001b[0m\u001b[0;34m]\u001b[0m \u001b[0mX\u001b[0m\u001b[0;34m,\u001b[0m \u001b[0mfloat\u001b[0m \u001b[0mr\u001b[0m\u001b[0;34m)\u001b[0m\u001b[0;34m:\u001b[0m\u001b[0;34m\u001b[0m\u001b[0;34m\u001b[0m\u001b[0m\n\u001b[0m\u001b[1;32m      6\u001b[0m     \u001b[0mcdef\u001b[0m \u001b[0mint\u001b[0m \u001b[0mend\u001b[0m \u001b[0;34m=\u001b[0m \u001b[0mX\u001b[0m\u001b[0;34m.\u001b[0m\u001b[0mshape\u001b[0m\u001b[0;34m[\u001b[0m\u001b[0;36m1\u001b[0m\u001b[0;34m]\u001b[0m\u001b[0;34m\u001b[0m\u001b[0;34m\u001b[0m\u001b[0m\n\u001b[1;32m      7\u001b[0m     \u001b[0mcdef\u001b[0m \u001b[0mfloat\u001b[0m\u001b[0;34m[\u001b[0m\u001b[0;34m:\u001b[0m\u001b[0;34m]\u001b[0m \u001b[0ma_col\u001b[0m\u001b[0;34m\u001b[0m\u001b[0;34m\u001b[0m\u001b[0m\n",
      "\u001b[0;32m~/Documents/telecom_paris/cdd/rhf/rhf-cython/get_attribute.pyx\u001b[0m in \u001b[0;36mget_attribute.get_attribute\u001b[0;34m()\u001b[0m\n\u001b[1;32m      8\u001b[0m     \u001b[0mcdef\u001b[0m \u001b[0mfloat\u001b[0m \u001b[0ma_val\u001b[0m\u001b[0;34m,\u001b[0m \u001b[0ma_min\u001b[0m\u001b[0;34m,\u001b[0m \u001b[0ma_max\u001b[0m\u001b[0;34m\u001b[0m\u001b[0;34m\u001b[0m\u001b[0m\n\u001b[1;32m      9\u001b[0m     \u001b[0;32mfor\u001b[0m \u001b[0ma\u001b[0m \u001b[0;32min\u001b[0m \u001b[0mrange\u001b[0m\u001b[0;34m(\u001b[0m\u001b[0;36m0\u001b[0m\u001b[0;34m,\u001b[0m\u001b[0mend\u001b[0m\u001b[0;34m)\u001b[0m\u001b[0;34m:\u001b[0m\u001b[0;34m\u001b[0m\u001b[0;34m\u001b[0m\u001b[0m\n\u001b[0;32m---> 10\u001b[0;31m         \u001b[0;32mif\u001b[0m \u001b[0mks_cy\u001b[0m\u001b[0;34m.\u001b[0m\u001b[0mkurtosis_sum\u001b[0m\u001b[0;34m(\u001b[0m\u001b[0mX\u001b[0m\u001b[0;34m,\u001b[0m \u001b[0ma\u001b[0m\u001b[0;34m)\u001b[0m \u001b[0;34m>\u001b[0m \u001b[0mr\u001b[0m\u001b[0;34m:\u001b[0m\u001b[0;34m\u001b[0m\u001b[0;34m\u001b[0m\u001b[0m\n\u001b[0m\u001b[1;32m     11\u001b[0m             \u001b[0ma_col\u001b[0m \u001b[0;34m=\u001b[0m \u001b[0mX\u001b[0m\u001b[0;34m[\u001b[0m\u001b[0;34m:\u001b[0m\u001b[0;34m,\u001b[0m \u001b[0ma\u001b[0m\u001b[0;34m]\u001b[0m\u001b[0;34m\u001b[0m\u001b[0;34m\u001b[0m\u001b[0m\n\u001b[1;32m     12\u001b[0m \u001b[0;34m\u001b[0m\u001b[0m\n",
      "\u001b[0;32m~/Documents/telecom_paris/cdd/rhf/rhf-cython/kurtosis_sum.pyx\u001b[0m in \u001b[0;36mkurtosis_sum.kurtosis_sum\u001b[0;34m()\u001b[0m\n\u001b[1;32m      7\u001b[0m     \u001b[0;32mfor\u001b[0m \u001b[0ma\u001b[0m \u001b[0;32min\u001b[0m \u001b[0mrange\u001b[0m\u001b[0;34m(\u001b[0m\u001b[0;36m0\u001b[0m\u001b[0;34m,\u001b[0m \u001b[0md\u001b[0m\u001b[0;34m+\u001b[0m\u001b[0;36m1\u001b[0m\u001b[0;34m)\u001b[0m\u001b[0;34m:\u001b[0m\u001b[0;34m\u001b[0m\u001b[0;34m\u001b[0m\u001b[0m\n\u001b[1;32m      8\u001b[0m         \u001b[0;32mif\u001b[0m \u001b[0;34m(\u001b[0m\u001b[0mnp\u001b[0m\u001b[0;34m.\u001b[0m\u001b[0mmax\u001b[0m\u001b[0;34m(\u001b[0m\u001b[0mX\u001b[0m\u001b[0;34m[\u001b[0m\u001b[0;34m:\u001b[0m\u001b[0;34m,\u001b[0m\u001b[0ma\u001b[0m\u001b[0;34m]\u001b[0m\u001b[0;34m)\u001b[0m \u001b[0;34m!=\u001b[0m \u001b[0mnp\u001b[0m\u001b[0;34m.\u001b[0m\u001b[0mmin\u001b[0m\u001b[0;34m(\u001b[0m\u001b[0mX\u001b[0m\u001b[0;34m[\u001b[0m\u001b[0;34m:\u001b[0m\u001b[0;34m,\u001b[0m\u001b[0ma\u001b[0m\u001b[0;34m]\u001b[0m\u001b[0;34m)\u001b[0m\u001b[0;34m)\u001b[0m\u001b[0;34m:\u001b[0m\u001b[0;34m\u001b[0m\u001b[0;34m\u001b[0m\u001b[0m\n\u001b[0;32m----> 9\u001b[0;31m             \u001b[0msum\u001b[0m \u001b[0;34m+=\u001b[0m \u001b[0mnp\u001b[0m\u001b[0;34m.\u001b[0m\u001b[0mlog\u001b[0m\u001b[0;34m(\u001b[0m\u001b[0msstats\u001b[0m\u001b[0;34m.\u001b[0m\u001b[0mstats\u001b[0m\u001b[0;34m.\u001b[0m\u001b[0mkurtosis\u001b[0m\u001b[0;34m(\u001b[0m\u001b[0mX\u001b[0m\u001b[0;34m[\u001b[0m\u001b[0;34m:\u001b[0m\u001b[0;34m,\u001b[0m\u001b[0ma\u001b[0m\u001b[0;34m]\u001b[0m\u001b[0;34m,\u001b[0m \u001b[0mfisher\u001b[0m\u001b[0;34m=\u001b[0m\u001b[0;32mFalse\u001b[0m\u001b[0;34m)\u001b[0m \u001b[0;34m+\u001b[0m \u001b[0;36m1\u001b[0m\u001b[0;34m)\u001b[0m\u001b[0;34m\u001b[0m\u001b[0;34m\u001b[0m\u001b[0m\n\u001b[0m\u001b[1;32m     10\u001b[0m     \u001b[0;32mreturn\u001b[0m \u001b[0msum\u001b[0m\u001b[0;34m\u001b[0m\u001b[0;34m\u001b[0m\u001b[0m\n",
      "\u001b[0;32m~/anaconda3/lib/python3.8/site-packages/scipy/stats/stats.py\u001b[0m in \u001b[0;36mkurtosis\u001b[0;34m(a, axis, fisher, bias, nan_policy)\u001b[0m\n\u001b[1;32m   1339\u001b[0m     \u001b[0mn\u001b[0m \u001b[0;34m=\u001b[0m \u001b[0ma\u001b[0m\u001b[0;34m.\u001b[0m\u001b[0mshape\u001b[0m\u001b[0;34m[\u001b[0m\u001b[0maxis\u001b[0m\u001b[0;34m]\u001b[0m\u001b[0;34m\u001b[0m\u001b[0;34m\u001b[0m\u001b[0m\n\u001b[1;32m   1340\u001b[0m     \u001b[0mm2\u001b[0m \u001b[0;34m=\u001b[0m \u001b[0mmoment\u001b[0m\u001b[0;34m(\u001b[0m\u001b[0ma\u001b[0m\u001b[0;34m,\u001b[0m \u001b[0;36m2\u001b[0m\u001b[0;34m,\u001b[0m \u001b[0maxis\u001b[0m\u001b[0;34m)\u001b[0m\u001b[0;34m\u001b[0m\u001b[0;34m\u001b[0m\u001b[0m\n\u001b[0;32m-> 1341\u001b[0;31m     \u001b[0mm4\u001b[0m \u001b[0;34m=\u001b[0m \u001b[0mmoment\u001b[0m\u001b[0;34m(\u001b[0m\u001b[0ma\u001b[0m\u001b[0;34m,\u001b[0m \u001b[0;36m4\u001b[0m\u001b[0;34m,\u001b[0m \u001b[0maxis\u001b[0m\u001b[0;34m)\u001b[0m\u001b[0;34m\u001b[0m\u001b[0;34m\u001b[0m\u001b[0m\n\u001b[0m\u001b[1;32m   1342\u001b[0m     \u001b[0mzero\u001b[0m \u001b[0;34m=\u001b[0m \u001b[0;34m(\u001b[0m\u001b[0mm2\u001b[0m \u001b[0;34m==\u001b[0m \u001b[0;36m0\u001b[0m\u001b[0;34m)\u001b[0m\u001b[0;34m\u001b[0m\u001b[0;34m\u001b[0m\u001b[0m\n\u001b[1;32m   1343\u001b[0m     \u001b[0;32mwith\u001b[0m \u001b[0mnp\u001b[0m\u001b[0;34m.\u001b[0m\u001b[0merrstate\u001b[0m\u001b[0;34m(\u001b[0m\u001b[0mall\u001b[0m\u001b[0;34m=\u001b[0m\u001b[0;34m'ignore'\u001b[0m\u001b[0;34m)\u001b[0m\u001b[0;34m:\u001b[0m\u001b[0;34m\u001b[0m\u001b[0;34m\u001b[0m\u001b[0m\n",
      "\u001b[0;32m~/anaconda3/lib/python3.8/site-packages/scipy/stats/stats.py\u001b[0m in \u001b[0;36mmoment\u001b[0;34m(a, moment, axis, nan_policy)\u001b[0m\n\u001b[1;32m   1040\u001b[0m         \u001b[0;32mreturn\u001b[0m \u001b[0mnp\u001b[0m\u001b[0;34m.\u001b[0m\u001b[0marray\u001b[0m\u001b[0;34m(\u001b[0m\u001b[0mmmnt\u001b[0m\u001b[0;34m)\u001b[0m\u001b[0;34m\u001b[0m\u001b[0;34m\u001b[0m\u001b[0m\n\u001b[1;32m   1041\u001b[0m     \u001b[0;32melse\u001b[0m\u001b[0;34m:\u001b[0m\u001b[0;34m\u001b[0m\u001b[0;34m\u001b[0m\u001b[0m\n\u001b[0;32m-> 1042\u001b[0;31m         \u001b[0;32mreturn\u001b[0m \u001b[0m_moment\u001b[0m\u001b[0;34m(\u001b[0m\u001b[0ma\u001b[0m\u001b[0;34m,\u001b[0m \u001b[0mmoment\u001b[0m\u001b[0;34m,\u001b[0m \u001b[0maxis\u001b[0m\u001b[0;34m)\u001b[0m\u001b[0;34m\u001b[0m\u001b[0;34m\u001b[0m\u001b[0m\n\u001b[0m\u001b[1;32m   1043\u001b[0m \u001b[0;34m\u001b[0m\u001b[0m\n\u001b[1;32m   1044\u001b[0m \u001b[0;34m\u001b[0m\u001b[0m\n",
      "\u001b[0;32m~/anaconda3/lib/python3.8/site-packages/scipy/stats/stats.py\u001b[0m in \u001b[0;36m_moment\u001b[0;34m(a, moment, axis)\u001b[0m\n\u001b[1;32m   1080\u001b[0m \u001b[0;34m\u001b[0m\u001b[0m\n\u001b[1;32m   1081\u001b[0m         \u001b[0;31m# Starting point for exponentiation by squares\u001b[0m\u001b[0;34m\u001b[0m\u001b[0;34m\u001b[0m\u001b[0;34m\u001b[0m\u001b[0m\n\u001b[0;32m-> 1082\u001b[0;31m         \u001b[0ma_zero_mean\u001b[0m \u001b[0;34m=\u001b[0m \u001b[0ma\u001b[0m \u001b[0;34m-\u001b[0m \u001b[0mnp\u001b[0m\u001b[0;34m.\u001b[0m\u001b[0mexpand_dims\u001b[0m\u001b[0;34m(\u001b[0m\u001b[0mnp\u001b[0m\u001b[0;34m.\u001b[0m\u001b[0mmean\u001b[0m\u001b[0;34m(\u001b[0m\u001b[0ma\u001b[0m\u001b[0;34m,\u001b[0m \u001b[0maxis\u001b[0m\u001b[0;34m)\u001b[0m\u001b[0;34m,\u001b[0m \u001b[0maxis\u001b[0m\u001b[0;34m)\u001b[0m\u001b[0;34m\u001b[0m\u001b[0;34m\u001b[0m\u001b[0m\n\u001b[0m\u001b[1;32m   1083\u001b[0m         \u001b[0;32mif\u001b[0m \u001b[0mn_list\u001b[0m\u001b[0;34m[\u001b[0m\u001b[0;34m-\u001b[0m\u001b[0;36m1\u001b[0m\u001b[0;34m]\u001b[0m \u001b[0;34m==\u001b[0m \u001b[0;36m1\u001b[0m\u001b[0;34m:\u001b[0m\u001b[0;34m\u001b[0m\u001b[0;34m\u001b[0m\u001b[0m\n\u001b[1;32m   1084\u001b[0m             \u001b[0ms\u001b[0m \u001b[0;34m=\u001b[0m \u001b[0ma_zero_mean\u001b[0m\u001b[0;34m.\u001b[0m\u001b[0mcopy\u001b[0m\u001b[0;34m(\u001b[0m\u001b[0;34m)\u001b[0m\u001b[0;34m\u001b[0m\u001b[0;34m\u001b[0m\u001b[0m\n",
      "\u001b[0;32m<__array_function__ internals>\u001b[0m in \u001b[0;36mexpand_dims\u001b[0;34m(*args, **kwargs)\u001b[0m\n",
      "\u001b[0;32m~/anaconda3/lib/python3.8/site-packages/numpy/lib/shape_base.py\u001b[0m in \u001b[0;36mexpand_dims\u001b[0;34m(a, axis)\u001b[0m\n\u001b[1;32m    595\u001b[0m \u001b[0;34m\u001b[0m\u001b[0m\n\u001b[1;32m    596\u001b[0m     \u001b[0mout_ndim\u001b[0m \u001b[0;34m=\u001b[0m \u001b[0mlen\u001b[0m\u001b[0;34m(\u001b[0m\u001b[0maxis\u001b[0m\u001b[0;34m)\u001b[0m \u001b[0;34m+\u001b[0m \u001b[0ma\u001b[0m\u001b[0;34m.\u001b[0m\u001b[0mndim\u001b[0m\u001b[0;34m\u001b[0m\u001b[0;34m\u001b[0m\u001b[0m\n\u001b[0;32m--> 597\u001b[0;31m     \u001b[0maxis\u001b[0m \u001b[0;34m=\u001b[0m \u001b[0mnormalize_axis_tuple\u001b[0m\u001b[0;34m(\u001b[0m\u001b[0maxis\u001b[0m\u001b[0;34m,\u001b[0m \u001b[0mout_ndim\u001b[0m\u001b[0;34m)\u001b[0m\u001b[0;34m\u001b[0m\u001b[0;34m\u001b[0m\u001b[0m\n\u001b[0m\u001b[1;32m    598\u001b[0m \u001b[0;34m\u001b[0m\u001b[0m\n\u001b[1;32m    599\u001b[0m     \u001b[0mshape_it\u001b[0m \u001b[0;34m=\u001b[0m \u001b[0miter\u001b[0m\u001b[0;34m(\u001b[0m\u001b[0ma\u001b[0m\u001b[0;34m.\u001b[0m\u001b[0mshape\u001b[0m\u001b[0;34m)\u001b[0m\u001b[0;34m\u001b[0m\u001b[0;34m\u001b[0m\u001b[0m\n",
      "\u001b[0;32m~/anaconda3/lib/python3.8/site-packages/numpy/core/numeric.py\u001b[0m in \u001b[0;36mnormalize_axis_tuple\u001b[0;34m(axis, ndim, argname, allow_duplicate)\u001b[0m\n\u001b[1;32m   1356\u001b[0m             \u001b[0;32mpass\u001b[0m\u001b[0;34m\u001b[0m\u001b[0;34m\u001b[0m\u001b[0m\n\u001b[1;32m   1357\u001b[0m     \u001b[0;31m# Going via an iterator directly is slower than via list comprehension.\u001b[0m\u001b[0;34m\u001b[0m\u001b[0;34m\u001b[0m\u001b[0;34m\u001b[0m\u001b[0m\n\u001b[0;32m-> 1358\u001b[0;31m     \u001b[0maxis\u001b[0m \u001b[0;34m=\u001b[0m \u001b[0mtuple\u001b[0m\u001b[0;34m(\u001b[0m\u001b[0;34m[\u001b[0m\u001b[0mnormalize_axis_index\u001b[0m\u001b[0;34m(\u001b[0m\u001b[0max\u001b[0m\u001b[0;34m,\u001b[0m \u001b[0mndim\u001b[0m\u001b[0;34m,\u001b[0m \u001b[0margname\u001b[0m\u001b[0;34m)\u001b[0m \u001b[0;32mfor\u001b[0m \u001b[0max\u001b[0m \u001b[0;32min\u001b[0m \u001b[0maxis\u001b[0m\u001b[0;34m]\u001b[0m\u001b[0;34m)\u001b[0m\u001b[0;34m\u001b[0m\u001b[0;34m\u001b[0m\u001b[0m\n\u001b[0m\u001b[1;32m   1359\u001b[0m     \u001b[0;32mif\u001b[0m \u001b[0;32mnot\u001b[0m \u001b[0mallow_duplicate\u001b[0m \u001b[0;32mand\u001b[0m \u001b[0mlen\u001b[0m\u001b[0;34m(\u001b[0m\u001b[0mset\u001b[0m\u001b[0;34m(\u001b[0m\u001b[0maxis\u001b[0m\u001b[0;34m)\u001b[0m\u001b[0;34m)\u001b[0m \u001b[0;34m!=\u001b[0m \u001b[0mlen\u001b[0m\u001b[0;34m(\u001b[0m\u001b[0maxis\u001b[0m\u001b[0;34m)\u001b[0m\u001b[0;34m:\u001b[0m\u001b[0;34m\u001b[0m\u001b[0;34m\u001b[0m\u001b[0m\n\u001b[1;32m   1360\u001b[0m         \u001b[0;32mif\u001b[0m \u001b[0margname\u001b[0m\u001b[0;34m:\u001b[0m\u001b[0;34m\u001b[0m\u001b[0;34m\u001b[0m\u001b[0m\n",
      "\u001b[0;31mKeyboardInterrupt\u001b[0m: "
     ]
    }
   ],
   "source": [
    "setup_code='''\n",
    "import scipy.io as sio\n",
    "import scipy.stats as sstats\n",
    "import random \n",
    "import numpy as np\n",
    "import rht\n",
    "import rhf\n",
    "import anomaly_score as a_s\n",
    "import Node\n",
    "# set the number of trees and max height\n",
    "H = 5\n",
    "T = 100\n",
    "mat_contents = sio.loadmat(\"../datasets/musk.mat\")\n",
    "dataset = mat_contents['X'] \n",
    "labels = mat_contents['y']\n",
    "dataset = dataset.astype('float32') \n",
    "'''\n",
    "code = '''\n",
    "test_rhf = rhf.rhf(X=dataset, t=T, nd=0, h=H)\n",
    "scores = np.empty(labels.size)\n",
    "for i, x in enumerate(dataset):\n",
    "    score = a_s.anomaly_score(test_rhf, dataset.size, x)\n",
    "    np.append(scores, score)    \n",
    "'''\n",
    "for i in range(0,3):\n",
    "    print(\"Total time for rhf-cython (train) = \", timeit(setup=setup_code, stmt=code, number=1))"
   ]
  },
  {
   "cell_type": "markdown",
   "metadata": {},
   "source": [
    "### Number of elements vs. execution time"
   ]
  },
  {
   "cell_type": "code",
   "execution_count": null,
   "metadata": {
    "scrolled": true
   },
   "outputs": [],
   "source": [
    "mat_contents = sio.loadmat(\"../datasets/satellite.mat\")\n",
    "ds = mat_contents['X'] \n",
    "ls = mat_contents['y']\n",
    "\n",
    "\n",
    "i = 2250\n",
    "while i < ds.shape[0]:\n",
    "    H = 5\n",
    "    T = 100\n",
    "    print(\"n=\", i)\n",
    "    \n",
    "    dataset = ds[:i, :]\n",
    "    labels = ls[:i]\n",
    "    dataset = dataset.astype('float32') \n",
    "\n",
    "    code = '''\n",
    "test_rhf = rhf.rhf(X=dataset, t=T, nd=0, h=H)\n",
    "\n",
    "scores = np.empty(labels.size)\n",
    "for i, x in enumerate(dataset):\n",
    "    score = a_s.anomaly_score(test_rhf, dataset.size, x)\n",
    "    np.append(scores, score)    \n",
    "'''\n",
    "    \n",
    "    print(\"Total time for rhf-cython (train) = \", timeit(stmt=code, number=10, globals=globals()))\n",
    "    i = i + 250"
   ]
  },
  {
   "cell_type": "raw",
   "metadata": {},
   "source": [
    "satellite.mat \n",
    "\n",
    "n= 250\n",
    "Total time for rhf-cython (train) =  958.6337607059977\n",
    "n= 500\n",
    "Total time for rhf-cython (train) =  1105.908711570024\n",
    "n= 750\n",
    "Total time for rhf-cython (train) =  1142.64560639899\n",
    "n= 1000\n",
    "Total time for rhf-cython (train) =  1181.9657316629891\n",
    "n= 1250\n",
    "Total time for rhf-cython (train) =  1190.7114753689966\n",
    "n= 1500\n",
    "Total time for rhf-cython (train) =  1226.3158327940037\n",
    "n= 1750\n",
    "Total time for rhf-cython (train) =  1267.7701968899928\n",
    "n= 2000\n",
    "Total time for rhf-cython (train) =  1269.9709899289883\n",
    "n= 2250\n"
   ]
  },
  {
   "cell_type": "markdown",
   "metadata": {},
   "source": [
    "### Height vs. execution time"
   ]
  },
  {
   "cell_type": "code",
   "execution_count": null,
   "metadata": {},
   "outputs": [],
   "source": [
    "mat_contents = sio.loadmat(\"../datasets/satellite.mat\")\n",
    "dataset = mat_contents['X'] \n",
    "labels = mat_contents['y']\n",
    "\n",
    "\n",
    "for i in range(1, 11):\n",
    "    H = i\n",
    "    T = 100\n",
    "    \n",
    "    dataset = dataset.astype('float32') \n",
    "\n",
    "    code = '''\n",
    "print(\"H=\", H)\n",
    "\n",
    "test_rhf = rhf.rhf(X=dataset, t=T, nd=0, h=H)\n",
    "\n",
    "scores = np.empty(labels.size)\n",
    "for i, x in enumerate(dataset):\n",
    "    score = a_s.anomaly_score(test_rhf, dataset.size, x)\n",
    "    np.append(scores, score)    \n",
    "'''\n",
    "    \n",
    "    print(\"Total time for rhf-cython (train) = \", timeit(stmt=code, number=10, globals=globals()))"
   ]
  },
  {
   "cell_type": "raw",
   "metadata": {},
   "source": [
    "cardio.mat\n",
    "\n",
    "H= 1\n",
    "Total time for rhf-cython (train) =  83.50158410100266\n",
    "H= 2\n",
    "Total time for rhf-cython (train) =  117.62253137701191\n",
    "H= 3\n",
    "Total time for rhf-cython (train) =  173.6867242900189\n",
    "H= 4\n",
    "Total time for rhf-cython (train) =  271.86587387201143\n",
    "H= 5\n",
    "Total time for rhf-cython (train) =  408.2193979859585\n",
    "H= 6\n",
    "Total time for rhf-cython (train) =  603.9381421550061\n",
    "H= 7\n",
    "Total time for rhf-cython (train) =  854.6984342659707\n",
    "H= 8\n",
    "Total time for rhf-cython (train) =  1223.4855611730018\n",
    "H= 9\n",
    "Total time for rhf-cython (train) =  1704.1170507770148\n",
    "H= 10\n",
    "Total time for rhf-cython (train) =  2216.949507902027"
   ]
  },
  {
   "cell_type": "markdown",
   "metadata": {},
   "source": [
    "### Number of trees vs. execution time"
   ]
  },
  {
   "cell_type": "code",
   "execution_count": null,
   "metadata": {},
   "outputs": [],
   "source": [
    "mat_contents = sio.loadmat(\"../datasets/cardio.mat\")\n",
    "dataset = mat_contents['X'] \n",
    "labels = mat_contents['y']\n",
    "\n",
    "\n",
    "for i in range(1, 101):\n",
    "    H = 5\n",
    "    T = i\n",
    "    print(\"T=\", i)\n",
    "    \n",
    "    dataset = dataset.astype('float32') \n",
    "\n",
    "    code = \n",
    "'''\n",
    "test_rhf = rhf.rhf(X=dataset, t=T, nd=0, h=H)\n",
    "\n",
    "scores = np.empty(labels.size)\n",
    "for i, x in enumerate(dataset):\n",
    "    score = a_s.anomaly_score(test_rhf, dataset.size, x)\n",
    "    np.append(scores, score)    \n",
    "'''\n",
    "    \n",
    "    print(\"Total time for rhf-cython (train) = \", timeit(stmt=code, number=10, globals=globals()))"
   ]
  },
  {
   "cell_type": "markdown",
   "metadata": {},
   "source": [
    "## Results"
   ]
  },
  {
   "cell_type": "raw",
   "metadata": {},
   "source": [
    "cardio.mat (10 runs for each 100)\n",
    "\n",
    "n= 100\n",
    "Total time for rhf-cython (train) =  274.43728170499526\n",
    "n= 200\n",
    "Total time for rhf-cython (train) =  283.3873685370054\n",
    "n= 300\n",
    "Total time for rhf-cython (train) =  304.81164014899696\n",
    "n= 400\n",
    "Total time for rhf-cython (train) =  312.3389540890057\n",
    "n= 500\n",
    "Total time for rhf-cython (train) =  322.8238822850035\n",
    "n= 600\n",
    "Total time for rhf-cython (train) =  326.86446894100663\n",
    "n= 700\n",
    "Total time for rhf-cython (train) =  339.63539324400335\n",
    "n= 800\n",
    "Total time for rhf-cython (train) =  342.66037553400383\n",
    "n= 900\n",
    "Total time for rhf-cython (train) =  355.4454223829962\n",
    "n= 1000\n",
    "Total time for rhf-cython (train) =  353.1830718920028\n",
    "n= 1100\n",
    "Total time for rhf-cython (train) =  359.76666747400304\n",
    "n= 1200\n",
    "Total time for rhf-cython (train) =  334.2079347609979\n",
    "n= 1300\n",
    "Total time for rhf-cython (train) =  344.1899042840014\n",
    "n= 1400\n",
    "Total time for rhf-cython (train) =  344.87181519700243\n",
    "n= 1500\n",
    "Total time for rhf-cython (train) =  335.24375254200277\n",
    "n= 1600\n",
    "Total time for rhf-cython (train) =  326.93247057199915\n",
    "n= 1700\n",
    "Total time for rhf-cython (train) =  336.7282930059955\n",
    "n= 1800\n",
    "Total time for rhf-cython (train) =  364.37766738900245"
   ]
  },
  {
   "cell_type": "raw",
   "metadata": {},
   "source": [
    "cardio.mat \n",
    "\n",
    "n= 100\n",
    "Total time for rhf-cython (train) =  39.87026540299121\n",
    "n= 200\n",
    "Total time for rhf-cython (train) =  47.30587146998732\n",
    "n= 300\n",
    "Total time for rhf-cython (train) =  44.36571619400638\n",
    "n= 400\n",
    "Total time for rhf-cython (train) =  56.49343574100931\n",
    "n= 500\n",
    "Total time for rhf-cython (train) =  51.93081428500591\n",
    "n= 600\n",
    "Total time for rhf-cython (train) =  70.4081487749936\n",
    "n= 700\n",
    "Total time for rhf-cython (train) =  64.65354633900279\n",
    "n= 800\n",
    "Total time for rhf-cython (train) =  62.77559132500028\n",
    "n= 900\n",
    "Total time for rhf-cython (train) =  54.22620759801066\n",
    "n= 1000\n",
    "Total time for rhf-cython (train) =  53.35472618500353\n",
    "n= 1100\n",
    "Total time for rhf-cython (train) =  55.49450583300495\n",
    "n= 1200\n",
    "Total time for rhf-cython (train) =  52.90500375600823\n",
    "n= 1300\n",
    "Total time for rhf-cython (train) =  61.0898498930037\n",
    "n= 1400\n",
    "Total time for rhf-cython (train) =  73.60722430799797\n",
    "n= 1500\n",
    "Total time for rhf-cython (train) =  72.91881909099175\n",
    "n= 1600\n",
    "Total time for rhf-cython (train) =  71.42669066599046\n",
    "n= 1700\n",
    "Total time for rhf-cython (train) =  75.03796172500006\n",
    "n= 1800\n",
    "Total time for rhf-cython (train) =  87.4771403689956\n"
   ]
  },
  {
   "cell_type": "raw",
   "metadata": {},
   "source": [
    "cardio.mat\n",
    "\n",
    "T= 2\n",
    "Total time for rhf-cython (train) =  1.0315887589968042\n",
    "T= 7\n",
    "Total time for rhf-cython (train) =  4.011168201002874\n",
    "T= 12\n",
    "Total time for rhf-cython (train) =  7.0339257739979075\n",
    "T= 17\n",
    "Total time for rhf-cython (train) =  11.290350362003664\n",
    "T= 22\n",
    "Total time for rhf-cython (train) =  11.880178616003832\n",
    "T= 27\n",
    "Total time for rhf-cython (train) =  17.483452641987242\n",
    "T= 32\n",
    "Total time for rhf-cython (train) =  20.309223411997664\n",
    "T= 37\n",
    "Total time for rhf-cython (train) =  22.3275204590027\n",
    "T= 42\n",
    "Total time for rhf-cython (train) =  24.09540602299967\n",
    "T= 47\n",
    "Total time for rhf-cython (train) =  28.905385634992854\n",
    "T= 52\n",
    "Total time for rhf-cython (train) =  32.861287384002935\n",
    "T= 57\n",
    "Total time for rhf-cython (train) =  35.87255313700007\n",
    "T= 62\n",
    "Total time for rhf-cython (train) =  38.30312116899586\n",
    "T= 67\n",
    "Total time for rhf-cython (train) =  41.178493093000725\n",
    "T= 72\n",
    "Total time for rhf-cython (train) =  43.666187577007804\n",
    "T= 77\n",
    "Total time for rhf-cython (train) =  47.79091316901031\n",
    "T= 82\n",
    "Total time for rhf-cython (train) =  52.21693027300353\n",
    "BC, T= 87\n",
    "T= 87\n",
    "Total time for rhf-cython (train) =  54.95941942700301\n",
    "T= 92\n",
    "Total time for rhf-cython (train) =  59.50023387899273\n",
    "T= 97\n",
    "Total time for rhf-cython (train) =  63.913974221999524\n",
    "T= 102\n",
    "Total time for rhf-cython (train) =  62.494065648992546"
   ]
  },
  {
   "cell_type": "raw",
   "metadata": {},
   "source": [
    "cardio.mat \n",
    "\n",
    "H= 1\n",
    "Total time for rhf-cython (train) =  12.604439267000998\n",
    "H= 2\n",
    "Total time for rhf-cython (train) =  18.38584067800548\n",
    "H= 3\n",
    "Total time for rhf-cython (train) =  32.603499371994985\n",
    "H= 4\n",
    "Total time for rhf-cython (train) =  50.8089913349977\n",
    "H= 5\n",
    "Total time for rhf-cython (train) =  72.21361004699429\n",
    "H= 6\n",
    "Total time for rhf-cython (train) =  107.40358673399896\n",
    "H= 7\n",
    "Total time for rhf-cython (train) =  150.81484965099662\n",
    "H= 8\n",
    "Total time for rhf-cython (train) =  214.67793712099956\n",
    "H= 9"
   ]
  },
  {
   "cell_type": "raw",
   "metadata": {},
   "source": [
    "musk.mat\n",
    "\n",
    "Total time for rhf-cython (train) =  3972.861161617002\n",
    "Total time for rhf-cython (train) =  3475.3514697790015\n",
    "Total time for rhf-cython (train) =  3503.9694019720046\n",
    "\n",
    "avg = 3650.72 (cython)"
   ]
  },
  {
   "cell_type": "raw",
   "metadata": {},
   "source": [
    "musk.mat\n",
    "\n",
    "Total time for rhf-python (train) =  3907.5885492800007\n",
    "Total time for rhf-python (train) =  3879.408482304003\n",
    "Total time for rhf-python (train) =  3560.124946171003\n",
    "\n",
    "avg = 3782.37 (python)\n",
    "\n",
    "Total time for rhf-python (train) =  3573.552410616998\n",
    "Total time for rhf-python (train) =  3638.5123434520065\n",
    "Total time for rhf-python (train) =  3770.0237400339975\n",
    "Total time for rhf-python (train) =  3826.4306275380077"
   ]
  },
  {
   "cell_type": "raw",
   "metadata": {},
   "source": [
    "cardio.mat\n",
    "\n",
    "Total time for rhf-cython (train) =  59.14144099800251\n",
    "Total time for rhf-cython (train) =  63.978590279002674\n",
    "Total time for rhf-cython (train) =  60.86276573400028\n",
    "Total time for rhf-cython (train) =  57.69991066399962\n",
    "Total time for rhf-cython (train) =  58.196000578001986\n",
    "Total time for rhf-cython (train) =  60.464889924998715\n",
    "Total time for rhf-cython (train) =  58.230997028000274\n",
    "Total time for rhf-cython (train) =  61.842256036001345\n",
    "Total time for rhf-cython (train) =  65.33511229400028\n",
    "Total time for rhf-cython (train) =  61.58562024600178\n",
    "\n",
    "avg = 60.73 (cython)"
   ]
  },
  {
   "cell_type": "raw",
   "metadata": {},
   "source": [
    "cardio.mat\n",
    "\n",
    "Total time for rhf-python (train) =  61.36196113999904\n",
    "Total time for rhf-python (train) =  59.265187810997304\n",
    "Total time for rhf-python (train) =  64.36844525900233\n",
    "Total time for rhf-python (train) =  65.24738665300174\n",
    "Total time for rhf-python (train) =  66.39521962100116\n",
    "Total time for rhf-python (train) =  64.37800065400006\n",
    "Total time for rhf-python (train) =  65.36922295600016\n",
    "Total time for rhf-python (train) =  61.21870875999957\n",
    "Total time for rhf-python (train) =  62.87605189399983\n",
    "Total time for rhf-python (train) =  61.114259398000286\n",
    "\n",
    "avg = 63.16 (python)"
   ]
  },
  {
   "cell_type": "raw",
   "metadata": {},
   "source": [
    "satellite.mat\n",
    "\n",
    "Total time for rhf-cython (train) =  239.46417132100032\n",
    "Total time for rhf-cython (train) =  233.30278345999977\n",
    "Total time for rhf-cython (train) =  237.83752649799862\n",
    "Total time for rhf-cython (train) =  240.80996020999737\n",
    "Total time for rhf-cython (train) =  237.6489033339967\n",
    "Total time for rhf-cython (train) =  234.7397418949986\n",
    "Total time for rhf-cython (train) =  233.13837992299523\n",
    "Total time for rhf-cython (train) =  237.30533448100323\n",
    "Total time for rhf-cython (train) =  231.1335203540002\n",
    "Total time for rhf-cython (train) =  238.0386776029991\n",
    "\n",
    "avg = 236.34 (cython)"
   ]
  },
  {
   "cell_type": "raw",
   "metadata": {},
   "source": [
    "satellite.mat\n",
    "\n",
    "Total time for rhf-python(train) =  276.1681841409991\n",
    "Total time for rhf-python(train) =  276.6936287569988\n",
    "Total time for rhf-python(train) =  260.6195142760007\n",
    "Total time for rhf-python(train) =  253.41527432000294\n",
    "Total time for rhf-python(train) =  246.1381310709985\n",
    "Total time for rhf-python(train) =  243.79540850400008\n",
    "Total time for rhf-python(train) =  238.01656887500212\n",
    "Total time for rhf-python(train) =  241.9002185399986\n",
    "Total time for rhf-python(train) =  238.15488693099906\n",
    "Total time for rhf-python(train) =  251.28006793000168\n",
    "\n",
    "avg = 252.62 (python)"
   ]
  },
  {
   "cell_type": "raw",
   "metadata": {},
   "source": [
    "satellite.mat (without anomaly scoring section)\n",
    "\n",
    "Total time for rhf-cython (train) =  169.15746436599875\n",
    "Total time for rhf-cython (train) =  176.34475509099866\n",
    "Total time for rhf-cython (train) =  171.0824542829978\n",
    "Total time for rhf-cython (train) =  171.69858760200077\n",
    "Total time for rhf-cython (train) =  170.4211779560028\n",
    "Total time for rhf-cython (train) =  178.51519010300035\n",
    "Total time for rhf-cython (train) =  173.6565077669984\n",
    "Total time for rhf-cython (train) =  168.7770095920023\n",
    "Total time for rhf-cython (train) =  177.02497838199997\n",
    "Total time for rhf-cython (train) =  163.13628057999813\n",
    "\n",
    "avg = 171.98 (cython)"
   ]
  },
  {
   "cell_type": "raw",
   "metadata": {},
   "source": [
    "satellite.mat (without anomaly scoring)\n",
    "\n",
    "Total time for rhf-python (train) =  170.1039375170003\n",
    "Total time for rhf-python (train) =  175.5351373409976\n",
    "Total time for rhf-python (train) =  167.393852737001\n",
    "Total time for rhf-python (train) =  168.40820503299983\n",
    "Total time for rhf-python (train) =  168.79446701900088\n",
    "Total time for rhf-python (train) =  163.14447762599957\n",
    "Total time for rhf-python (train) =  170.23763702799988\n",
    "Total time for rhf-python (train) =  164.87929114800136\n",
    "Total time for rhf-python (train) =  169.77439191599842\n",
    "Total time for rhf-python (train) =  168.89160224599982\n",
    "\n",
    "avg = 168.71 (python)"
   ]
  },
  {
   "cell_type": "code",
   "execution_count": null,
   "metadata": {},
   "outputs": [],
   "source": [
    " #dataset = np.array([[1,2],[70,3],[80,18],[90,2],[100,23],[110,12],[111,22],[112,19],[113,20],[114,21],[115,22],[116,34]])\n",
    "#Node.Node.printNode(test_rhf[0], 0)\n"
   ]
  },
  {
   "cell_type": "markdown",
   "metadata": {},
   "source": [
    "## Average Precision Calculation"
   ]
  },
  {
   "cell_type": "code",
   "execution_count": 30,
   "metadata": {
    "scrolled": false
   },
   "outputs": [
    {
     "name": "stdout",
     "output_type": "stream",
     "text": [
      "AP= 0.9979303616198283\n",
      "AP= 0.9999999999999999\n",
      "AP= 0.9999999999999998\n",
      "AP= 0.9999999999999999\n",
      "AP= 0.9997896065642753\n",
      "AP= 0.9997896065642751\n",
      "AP= 0.9999999999999999\n",
      "AP= 0.9985562690323885\n",
      "AP= 0.9777108769488685\n",
      "AP= 0.9999999999999999\n"
     ]
    }
   ],
   "source": [
    "import scipy.io as sio\n",
    "import scipy.stats as sstats\n",
    "import random \n",
    "import numpy as np\n",
    "import rht\n",
    "import rhf\n",
    "import anomaly_score as a_s\n",
    "import Node\n",
    "# set the number of trees and max height\n",
    "H = 5\n",
    "T = 100\n",
    "mat_contents = sio.loadmat(\"../datasets/musk.mat\")\n",
    "dataset = mat_contents['X'] \n",
    "labels = mat_contents['y']\n",
    "dataset = dataset.astype('float32')\n",
    "for i in range(0, 10):\n",
    "    test_rhf = rhf.rhf(X=dataset, t=T, nd=0, h=H)\n",
    "\n",
    "    scores = np.empty(labels.size)\n",
    "    for i, x in enumerate(dataset):\n",
    "            score = a_s.anomaly_score(test_rhf, dataset.size, x)\n",
    "            scores[i] = score\n",
    "        \n",
    "    print(\"AP=\", average_precision_score(labels, scores))\n",
    "    "
   ]
  },
  {
   "cell_type": "raw",
   "metadata": {},
   "source": [
    "musk.mat\n",
    "\n",
    "AP= 0.9999999999999999\n",
    "AP= 1.0\n",
    "AP= 0.9920679390186478\n",
    "AP= 0.9999999999999999\n",
    "AP= 1.0\n",
    "AP= 0.9969025164739402\n",
    "AP= 0.9999999999999999\n",
    "AP= 0.9997896065642751\n",
    "AP= 0.9999999999999999\n",
    "AP= 0.9996822408419207\n",
    "AP= 0.9979303616198283\n",
    "AP= 0.9999999999999999\n",
    "AP= 0.9999999999999998\n",
    "AP= 0.9999999999999999\n",
    "AP= 0.9997896065642753\n",
    "AP= 0.9997896065642751\n",
    "AP= 0.9999999999999999\n",
    "AP= 0.9985562690323885\n",
    "AP= 0.9777108769488685\n",
    "AP= 0.9999999999999999\n",
    "\n",
    "0.998 +/- 0.002"
   ]
  },
  {
   "cell_type": "raw",
   "metadata": {},
   "source": [
    "satellite.mat\n",
    "\n",
    "AP= 0.6170157550859576\n",
    "AP= 0.663753486615899\n",
    "AP= 0.6636068896731623\n",
    "AP= 0.6095129668453847\n",
    "AP= 0.6425214156445306\n",
    "AP= 0.6399171649455052\n",
    "AP= 0.6726283457778135\n",
    "AP= 0.6404746861089395\n",
    "AP= 0.6511386966950713\n",
    "AP= 0.6434209656334753\n",
    "\n",
    "0.644 +/- 0.014"
   ]
  },
  {
   "cell_type": "raw",
   "metadata": {},
   "source": [
    "cardio.mat\n",
    "\n",
    "AP= 0.5181553327242993\n",
    "AP= 0.5926435236520571\n",
    "AP= 0.5322619213333626\n",
    "AP= 0.6142247044086294\n",
    "AP= 0.59205904109385\n",
    "AP= 0.6346077183945367\n",
    "AP= 0.5941951278338284\n",
    "AP= 0.5467206851013799\n",
    "AP= 0.6132809570352109\n",
    "AP= 0.5515181125400918\n",
    "\n",
    "0.579 +/- 0.027"
   ]
  },
  {
   "cell_type": "code",
   "execution_count": 33,
   "metadata": {},
   "outputs": [],
   "source": [
    "results_satellite = np.array(\n",
    "[0.6170157550859576,\n",
    "0.663753486615899,\n",
    "0.6636068896731623,\n",
    "0.6095129668453847,\n",
    "0.6425214156445306,\n",
    "0.6399171649455052,\n",
    "0.6726283457778135,\n",
    "0.6404746861089395,\n",
    "0.6511386966950713,\n",
    "0.6434209656334753])\n",
    "\n",
    "results_cardio = np.array(\n",
    "[0.5181553327242993,\n",
    "0.5926435236520571,\n",
    "0.5322619213333626,\n",
    "0.6142247044086294,\n",
    "0.59205904109385,\n",
    "0.6346077183945367,\n",
    "0.5941951278338284,\n",
    "0.5467206851013799,\n",
    "0.6132809570352109,\n",
    "0.5515181125400918])\n",
    "\n",
    "results_musk = np.array(\n",
    "[\n",
    "0.9999999999999999,\n",
    "1.0,\n",
    "0.9920679390186478,\n",
    "0.9999999999999999,\n",
    "1.0,\n",
    "0.9969025164739402,\n",
    "0.9999999999999999,\n",
    "0.9997896065642751,\n",
    "0.9999999999999999,\n",
    "0.9996822408419207,\n",
    "0.9979303616198283,\n",
    "0.9999999999999999,\n",
    "0.9999999999999998,\n",
    "0.9999999999999999,\n",
    "0.9997896065642753,\n",
    "0.9997896065642751,\n",
    "0.9999999999999999,\n",
    "0.9985562690323885,\n",
    "0.9777108769488685,\n",
    "0.9999999999999999\n",
    "])"
   ]
  },
  {
   "cell_type": "code",
   "execution_count": 34,
   "metadata": {},
   "outputs": [
    {
     "name": "stdout",
     "output_type": "stream",
     "text": [
      "0.998 +/- 0.002\n"
     ]
    }
   ],
   "source": [
    "data = results_musk\n",
    "conf = 0.95\n",
    "\n",
    "n = len(data)\n",
    "mean = np.mean(data)\n",
    "std = np.std(data)\n",
    "tstar = sstats.t.ppf((1 + conf) / 2., n-1)\n",
    "h = tstar*std/math.sqrt(n)\n",
    "print(\"{0} +/- {1}\".format(round(mean,3), round(h,3)))\n"
   ]
  },
  {
   "cell_type": "raw",
   "metadata": {},
   "source": [
    "dataset= cardio.mat\n",
    "\n",
    "H= 5\n",
    "Total time for rhf-cython (train) =  3905.872575718997\n",
    "H= 6\n",
    "Total time for rhf-cython (train) =  4036.5879556080035\n",
    "H= 7\n",
    "Total time for rhf-cython (train) =  3973.2863987090022\n",
    "H= 8\n",
    "Total time for rhf-cython (train) =  3844.6411624039974\n",
    "H= 9\n",
    "Total time for rhf-cython (train) =  4019.6005789899937\n",
    "T= 1\n",
    "Total time for rhf-cython (train) =  3996.8747042780014\n",
    "T= 2"
   ]
  }
 ],
 "metadata": {
  "kernelspec": {
   "display_name": "Python 3",
   "language": "python",
   "name": "python3"
  },
  "language_info": {
   "codemirror_mode": {
    "name": "ipython",
    "version": 3
   },
   "file_extension": ".py",
   "mimetype": "text/x-python",
   "name": "python",
   "nbconvert_exporter": "python",
   "pygments_lexer": "ipython3",
   "version": "3.8.5"
  }
 },
 "nbformat": 4,
 "nbformat_minor": 2
}
