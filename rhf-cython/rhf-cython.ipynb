{
 "cells": [
  {
   "cell_type": "markdown",
   "metadata": {},
   "source": [
    "# Random Histogram Forest"
   ]
  },
  {
   "cell_type": "code",
   "execution_count": 2,
   "metadata": {},
   "outputs": [],
   "source": [
    "from timeit import timeit"
   ]
  },
  {
   "cell_type": "code",
   "execution_count": 4,
   "metadata": {
    "scrolled": false
   },
   "outputs": [],
   "source": [
    "import scipy.io as sio\n",
    "import scipy.stats as sstats\n",
    "import random \n",
    "import numpy as np\n",
    "import rht\n",
    "import rhf\n",
    "import Node"
   ]
  },
  {
   "cell_type": "code",
   "execution_count": 5,
   "metadata": {},
   "outputs": [],
   "source": [
    "# set the number of trees and max height\n",
    "H = 5\n",
    "T = 100"
   ]
  },
  {
   "cell_type": "markdown",
   "metadata": {},
   "source": [
    "### Testing"
   ]
  },
  {
   "cell_type": "code",
   "execution_count": 5,
   "metadata": {
    "scrolled": true
   },
   "outputs": [
    {
     "ename": "ModuleNotFoundError",
     "evalue": "No module named 'rht'",
     "output_type": "error",
     "traceback": [
      "\u001b[0;31m---------------------------------------------------------------------------\u001b[0m",
      "\u001b[0;31mModuleNotFoundError\u001b[0m                       Traceback (most recent call last)",
      "\u001b[0;32m<ipython-input-5-450a39ad5b61>\u001b[0m in \u001b[0;36m<module>\u001b[0;34m\u001b[0m\n\u001b[1;32m     18\u001b[0m \u001b[0mcode\u001b[0m \u001b[0;34m=\u001b[0m \u001b[0;34m'''test_rhf = rhf.rhf(X=dataset, t=T, nd=0, h=H)'''\u001b[0m\u001b[0;34m\u001b[0m\u001b[0;34m\u001b[0m\u001b[0m\n\u001b[1;32m     19\u001b[0m \u001b[0;32mfor\u001b[0m \u001b[0mi\u001b[0m \u001b[0;32min\u001b[0m \u001b[0mrange\u001b[0m\u001b[0;34m(\u001b[0m\u001b[0;36m0\u001b[0m\u001b[0;34m,\u001b[0m\u001b[0;36m10\u001b[0m\u001b[0;34m)\u001b[0m\u001b[0;34m:\u001b[0m\u001b[0;34m\u001b[0m\u001b[0;34m\u001b[0m\u001b[0m\n\u001b[0;32m---> 20\u001b[0;31m     \u001b[0mprint\u001b[0m\u001b[0;34m(\u001b[0m\u001b[0;34m\"Total time for rhf-cython (train) = \"\u001b[0m\u001b[0;34m,\u001b[0m \u001b[0mtimeit\u001b[0m\u001b[0;34m(\u001b[0m\u001b[0msetup\u001b[0m\u001b[0;34m=\u001b[0m\u001b[0msetup_code\u001b[0m\u001b[0;34m,\u001b[0m \u001b[0mstmt\u001b[0m\u001b[0;34m=\u001b[0m\u001b[0mcode\u001b[0m\u001b[0;34m,\u001b[0m \u001b[0mnumber\u001b[0m\u001b[0;34m=\u001b[0m\u001b[0;36m1\u001b[0m\u001b[0;34m)\u001b[0m\u001b[0;34m)\u001b[0m\u001b[0;34m\u001b[0m\u001b[0;34m\u001b[0m\u001b[0m\n\u001b[0m\u001b[1;32m     21\u001b[0m \u001b[0;34m\u001b[0m\u001b[0m\n\u001b[1;32m     22\u001b[0m '''\n",
      "\u001b[0;32m~/anaconda3/lib/python3.7/timeit.py\u001b[0m in \u001b[0;36mtimeit\u001b[0;34m(stmt, setup, timer, number, globals)\u001b[0m\n\u001b[1;32m    230\u001b[0m            number=default_number, globals=None):\n\u001b[1;32m    231\u001b[0m     \u001b[0;34m\"\"\"Convenience function to create Timer object and call timeit method.\"\"\"\u001b[0m\u001b[0;34m\u001b[0m\u001b[0;34m\u001b[0m\u001b[0m\n\u001b[0;32m--> 232\u001b[0;31m     \u001b[0;32mreturn\u001b[0m \u001b[0mTimer\u001b[0m\u001b[0;34m(\u001b[0m\u001b[0mstmt\u001b[0m\u001b[0;34m,\u001b[0m \u001b[0msetup\u001b[0m\u001b[0;34m,\u001b[0m \u001b[0mtimer\u001b[0m\u001b[0;34m,\u001b[0m \u001b[0mglobals\u001b[0m\u001b[0;34m)\u001b[0m\u001b[0;34m.\u001b[0m\u001b[0mtimeit\u001b[0m\u001b[0;34m(\u001b[0m\u001b[0mnumber\u001b[0m\u001b[0;34m)\u001b[0m\u001b[0;34m\u001b[0m\u001b[0;34m\u001b[0m\u001b[0m\n\u001b[0m\u001b[1;32m    233\u001b[0m \u001b[0;34m\u001b[0m\u001b[0m\n\u001b[1;32m    234\u001b[0m def repeat(stmt=\"pass\", setup=\"pass\", timer=default_timer,\n",
      "\u001b[0;32m~/anaconda3/lib/python3.7/timeit.py\u001b[0m in \u001b[0;36mtimeit\u001b[0;34m(self, number)\u001b[0m\n\u001b[1;32m    174\u001b[0m         \u001b[0mgc\u001b[0m\u001b[0;34m.\u001b[0m\u001b[0mdisable\u001b[0m\u001b[0;34m(\u001b[0m\u001b[0;34m)\u001b[0m\u001b[0;34m\u001b[0m\u001b[0;34m\u001b[0m\u001b[0m\n\u001b[1;32m    175\u001b[0m         \u001b[0;32mtry\u001b[0m\u001b[0;34m:\u001b[0m\u001b[0;34m\u001b[0m\u001b[0;34m\u001b[0m\u001b[0m\n\u001b[0;32m--> 176\u001b[0;31m             \u001b[0mtiming\u001b[0m \u001b[0;34m=\u001b[0m \u001b[0mself\u001b[0m\u001b[0;34m.\u001b[0m\u001b[0minner\u001b[0m\u001b[0;34m(\u001b[0m\u001b[0mit\u001b[0m\u001b[0;34m,\u001b[0m \u001b[0mself\u001b[0m\u001b[0;34m.\u001b[0m\u001b[0mtimer\u001b[0m\u001b[0;34m)\u001b[0m\u001b[0;34m\u001b[0m\u001b[0;34m\u001b[0m\u001b[0m\n\u001b[0m\u001b[1;32m    177\u001b[0m         \u001b[0;32mfinally\u001b[0m\u001b[0;34m:\u001b[0m\u001b[0;34m\u001b[0m\u001b[0;34m\u001b[0m\u001b[0m\n\u001b[1;32m    178\u001b[0m             \u001b[0;32mif\u001b[0m \u001b[0mgcold\u001b[0m\u001b[0;34m:\u001b[0m\u001b[0;34m\u001b[0m\u001b[0;34m\u001b[0m\u001b[0m\n",
      "\u001b[0;32m~/anaconda3/lib/python3.7/timeit.py\u001b[0m in \u001b[0;36minner\u001b[0;34m(_it, _timer)\u001b[0m\n",
      "\u001b[0;31mModuleNotFoundError\u001b[0m: No module named 'rht'"
     ]
    }
   ],
   "source": [
    "\n",
    "setup_code='''\n",
    "import scipy.io as sio\n",
    "import scipy.stats as sstats\n",
    "import random \n",
    "import numpy as np\n",
    "import rht\n",
    "import rhf\n",
    "from timeit import timeit\n",
    "import Node\n",
    "# set the number of trees and max height\n",
    "H = 5\n",
    "T = 100\n",
    "mat_contents = sio.loadmat(\"satellite.mat\")\n",
    "dataset = mat_contents['X'] \n",
    "labels = mat_contents['y']\n",
    "dataset = dataset.astype('float32') \n",
    "'''\n",
    "code = '''test_rhf = rhf.rhf(X=dataset, t=T, nd=0, h=H)'''\n",
    "for i in range(0,10):\n",
    "    print(\"Total time for rhf-cython (train) = \", timeit(setup=setup_code, stmt=code, number=1))\n",
    "\n",
    "'''\n",
    "for i, x in enumerate(dataset):\n",
    "    score = anomaly_score(test_rhf, dataset.size, x)\n",
    "    np.append(scores, [score, labels[i]])\n",
    "    print(\"score = \" + str(score) + \" | anomaly? \" + str(labels[i]))\n",
    "'''\n"
   ]
  },
  {
   "cell_type": "markdown",
   "metadata": {},
   "source": [
    "### Testing Python vs Cython speed"
   ]
  },
  {
   "cell_type": "code",
   "execution_count": 5,
   "metadata": {},
   "outputs": [
    {
     "data": {
      "text/plain": [
       "47.71512985229492"
      ]
     },
     "execution_count": 5,
     "metadata": {},
     "output_type": "execute_result"
    }
   ],
   "source": [
    "import kurtosis_sum\n",
    "kurtosis_sum.kurtosis_sum(dataset, dataset.shape[1]-1)"
   ]
  },
  {
   "cell_type": "code",
   "execution_count": null,
   "metadata": {},
   "outputs": [],
   "source": [
    " #dataset = np.array([[1,2],[70,3],[80,18],[90,2],[100,23],[110,12],[111,22],[112,19],[113,20],[114,21],[115,22],[116,34]])\n",
    "#Node.Node.printNode(test_rhf[0], 0)\n"
   ]
  },
  {
   "cell_type": "code",
   "execution_count": 38,
   "metadata": {},
   "outputs": [
    {
     "name": "stdout",
     "output_type": "stream",
     "text": [
      "Total time for kurtosis sum (python) =  1.11729780800124\n",
      "Total time for kurtosis sum (python) =  1.0739590100001806\n",
      "Total time for kurtosis sum (python) =  1.0495012139999744\n",
      "Total time for kurtosis sum (python) =  1.0497420669998974\n",
      "Total time for kurtosis sum (python) =  1.0502796979999403\n",
      "Total time for kurtosis sum (python) =  1.0653134689982835\n",
      "Total time for kurtosis sum (python) =  1.0392168799990031\n",
      "Total time for kurtosis sum (python) =  1.0634308279986726\n",
      "Total time for kurtosis sum (python) =  1.0469607429986354\n",
      "Total time for kurtosis sum (python) =  1.1195489530000486\n"
     ]
    }
   ],
   "source": [
    "\n",
    "setup_code = '''\n",
    "import scipy.io as sio\n",
    "import scipy.stats as sstats\n",
    "import random \n",
    "import numpy as np\n",
    "import kurtosis_sum as ks_cy\n",
    "from timeit import timeit\n",
    "\n",
    "# sum of log(Kurtosis(X[a] + 1)) of attributes 0 to d inclusive\n",
    "def kurtosis_sum(X, d):\n",
    "    sum = 0\n",
    "    \n",
    "    # loop over the transpose matrix in order to analyze by column\n",
    "    for a in range(0, d+1):\n",
    "        # + 4 since the scipy function for kurtosis subtracts 3 so +1 +3 = 4\n",
    "        sum += np.log(sstats.stats.kurtosis(X[:,a])+4)\n",
    "        \n",
    "    return sum\n",
    "mat_contents = sio.loadmat(\"satellite.mat\")\n",
    "\n",
    "\n",
    "test_data = mat_contents['X']\n",
    "\n",
    "'''\n",
    "\n",
    "\n",
    "\n",
    "# Python \n",
    "\n",
    "code = '''\n",
    "kurtosis_sum(test_data, test_data.shape[1]-1)\n",
    "'''\n",
    "for i in range(0,10):\n",
    "    print(\"Total time for kurtosis sum (python) = \", timeit(setup=setup_code, stmt=code, number=100))"
   ]
  },
  {
   "cell_type": "code",
   "execution_count": 39,
   "metadata": {},
   "outputs": [
    {
     "name": "stdout",
     "output_type": "stream",
     "text": [
      "Total time for kurtosis sum (cython) =  1.0919095469998865\n",
      "Total time for kurtosis sum (cython) =  1.1623525440008962\n",
      "Total time for kurtosis sum (cython) =  1.0357378009994136\n",
      "Total time for kurtosis sum (cython) =  1.1084858289996191\n",
      "Total time for kurtosis sum (cython) =  1.1147826469987194\n",
      "Total time for kurtosis sum (cython) =  1.084498797001288\n",
      "Total time for kurtosis sum (cython) =  1.0787436030004756\n",
      "Total time for kurtosis sum (cython) =  1.1252668859997357\n",
      "Total time for kurtosis sum (cython) =  1.1269218009983888\n",
      "Total time for kurtosis sum (cython) =  1.08067842499986\n"
     ]
    }
   ],
   "source": [
    "# Cython \n",
    "\n",
    "setup_code = '''\n",
    "import scipy.io as sio\n",
    "import scipy.stats as sstats\n",
    "import random \n",
    "import numpy as np\n",
    "import kurtosis_sum as ks_cy\n",
    "from timeit import timeit\n",
    "\n",
    "mat_contents = sio.loadmat(\"satellite.mat\")\n",
    "\n",
    "\n",
    "test_data = mat_contents['X']\n",
    "\n",
    "'''\n",
    "\n",
    "code = '''ks_cy.kurtosis_sum2(test_data, test_data.shape[1]-1)'''\n",
    "\n",
    "for i in range(0,10):\n",
    "    print(\"Total time for kurtosis sum (cython) = \", timeit(setup=setup_code, stmt=code, number=100))"
   ]
  },
  {
   "cell_type": "code",
   "execution_count": null,
   "metadata": {},
   "outputs": [],
   "source": []
  }
 ],
 "metadata": {
  "kernelspec": {
   "display_name": "Python 3",
   "language": "python",
   "name": "python3"
  },
  "language_info": {
   "codemirror_mode": {
    "name": "ipython",
    "version": 3
   },
   "file_extension": ".py",
   "mimetype": "text/x-python",
   "name": "python",
   "nbconvert_exporter": "python",
   "pygments_lexer": "ipython3",
   "version": "3.7.4"
  }
 },
 "nbformat": 4,
 "nbformat_minor": 2
}
