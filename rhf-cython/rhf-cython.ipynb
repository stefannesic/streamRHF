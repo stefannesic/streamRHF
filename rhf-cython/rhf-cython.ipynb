{
 "cells": [
  {
   "cell_type": "markdown",
   "metadata": {},
   "source": [
    "# Random Histogram Forest"
   ]
  },
  {
   "cell_type": "code",
   "execution_count": 1,
   "metadata": {},
   "outputs": [],
   "source": [
    "from timeit import timeit"
   ]
  },
  {
   "cell_type": "markdown",
   "metadata": {},
   "source": [
    "### Testing"
   ]
  },
  {
   "cell_type": "code",
   "execution_count": 2,
   "metadata": {
    "scrolled": true
   },
   "outputs": [
    {
     "name": "stdout",
     "output_type": "stream",
     "text": [
      "Total time for rhf-cython (train) =  239.46417132100032\n",
      "Total time for rhf-cython (train) =  233.30278345999977\n",
      "Total time for rhf-cython (train) =  237.83752649799862\n",
      "Total time for rhf-cython (train) =  240.80996020999737\n",
      "Total time for rhf-cython (train) =  237.6489033339967\n",
      "Total time for rhf-cython (train) =  234.7397418949986\n",
      "Total time for rhf-cython (train) =  233.13837992299523\n",
      "Total time for rhf-cython (train) =  237.30533448100323\n",
      "Total time for rhf-cython (train) =  231.1335203540002\n",
      "Total time for rhf-cython (train) =  238.0386776029991\n"
     ]
    },
    {
     "data": {
      "text/plain": [
       "'\\nfor i, x in enumerate(dataset):\\n    score = anomaly_score(test_rhf, dataset.size, x)\\n    np.append(scores, [score, labels[i]])\\n    print(\"score = \" + str(score) + \" | anomaly? \" + str(labels[i]))\\n'"
      ]
     },
     "execution_count": 2,
     "metadata": {},
     "output_type": "execute_result"
    }
   ],
   "source": [
    "setup_code='''\n",
    "import scipy.io as sio\n",
    "import scipy.stats as sstats\n",
    "import random \n",
    "import numpy as np\n",
    "import rht\n",
    "import rhf\n",
    "import anomaly_score as a_s\n",
    "import Node\n",
    "# set the number of trees and max height\n",
    "H = 5\n",
    "T = 100\n",
    "mat_contents = sio.loadmat(\"../datasets/satellite.mat\")\n",
    "dataset = mat_contents['X'] \n",
    "labels = mat_contents['y']\n",
    "dataset = dataset.astype('float32') \n",
    "'''\n",
    "code = '''\n",
    "test_rhf = rhf.rhf(X=dataset, t=T, nd=0, h=H)\n",
    "for i, x in enumerate(dataset):\n",
    "    score = a_s.anomaly_score(test_rhf, dataset.size, x)\n",
    "'''\n",
    "for i in range(0,10):\n",
    "    print(\"Total time for rhf-cython (train) = \", timeit(setup=setup_code, stmt=code, number=1))\n",
    "\n",
    "'''\n",
    "for i, x in enumerate(dataset):\n",
    "    score = anomaly_score(test_rhf, dataset.size, x)\n",
    "    np.append(scores, [score, labels[i]])\n",
    "    print(\"score = \" + str(score) + \" | anomaly? \" + str(labels[i]))\n",
    "'''\n"
   ]
  },
  {
   "cell_type": "raw",
   "metadata": {},
   "source": [
    "Total time for rhf-cython (train) =  239.46417132100032\n",
    "Total time for rhf-cython (train) =  233.30278345999977\n",
    "Total time for rhf-cython (train) =  237.83752649799862\n",
    "Total time for rhf-cython (train) =  240.80996020999737\n",
    "Total time for rhf-cython (train) =  237.6489033339967\n",
    "Total time for rhf-cython (train) =  234.7397418949986\n",
    "Total time for rhf-cython (train) =  233.13837992299523\n",
    "Total time for rhf-cython (train) =  237.30533448100323\n",
    "Total time for rhf-cython (train) =  231.1335203540002\n",
    "Total time for rhf-cython (train) =  238.0386776029991\n",
    "\n",
    "avg = 236.34"
   ]
  },
  {
   "cell_type": "raw",
   "metadata": {},
   "source": [
    "Total time for rhf-cython (train) =  169.15746436599875\n",
    "Total time for rhf-cython (train) =  176.34475509099866\n",
    "Total time for rhf-cython (train) =  171.0824542829978\n",
    "Total time for rhf-cython (train) =  171.69858760200077\n",
    "Total time for rhf-cython (train) =  170.4211779560028\n",
    "Total time for rhf-cython (train) =  178.51519010300035\n",
    "Total time for rhf-cython (train) =  173.6565077669984\n",
    "Total time for rhf-cython (train) =  168.7770095920023\n",
    "Total time for rhf-cython (train) =  177.02497838199997\n",
    "Total time for rhf-cython (train) =  163.13628057999813"
   ]
  },
  {
   "cell_type": "markdown",
   "metadata": {},
   "source": [
    "### Testing Python vs Cython speed"
   ]
  },
  {
   "cell_type": "code",
   "execution_count": 5,
   "metadata": {},
   "outputs": [
    {
     "data": {
      "text/plain": [
       "47.71512985229492"
      ]
     },
     "execution_count": 5,
     "metadata": {},
     "output_type": "execute_result"
    }
   ],
   "source": [
    "import kurtosis_sum\n",
    "kurtosis_sum.kurtosis_sum(dataset, dataset.shape[1]-1)"
   ]
  },
  {
   "cell_type": "code",
   "execution_count": null,
   "metadata": {},
   "outputs": [],
   "source": [
    " #dataset = np.array([[1,2],[70,3],[80,18],[90,2],[100,23],[110,12],[111,22],[112,19],[113,20],[114,21],[115,22],[116,34]])\n",
    "#Node.Node.printNode(test_rhf[0], 0)\n"
   ]
  },
  {
   "cell_type": "code",
   "execution_count": 38,
   "metadata": {},
   "outputs": [
    {
     "name": "stdout",
     "output_type": "stream",
     "text": [
      "Total time for kurtosis sum (python) =  1.11729780800124\n",
      "Total time for kurtosis sum (python) =  1.0739590100001806\n",
      "Total time for kurtosis sum (python) =  1.0495012139999744\n",
      "Total time for kurtosis sum (python) =  1.0497420669998974\n",
      "Total time for kurtosis sum (python) =  1.0502796979999403\n",
      "Total time for kurtosis sum (python) =  1.0653134689982835\n",
      "Total time for kurtosis sum (python) =  1.0392168799990031\n",
      "Total time for kurtosis sum (python) =  1.0634308279986726\n",
      "Total time for kurtosis sum (python) =  1.0469607429986354\n",
      "Total time for kurtosis sum (python) =  1.1195489530000486\n"
     ]
    }
   ],
   "source": [
    "\n",
    "setup_code = '''\n",
    "import scipy.io as sio\n",
    "import scipy.stats as sstats\n",
    "import random \n",
    "import numpy as np\n",
    "import kurtosis_sum as ks_cy\n",
    "from timeit import timeit\n",
    "\n",
    "# sum of log(Kurtosis(X[a] + 1)) of attributes 0 to d inclusive\n",
    "def kurtosis_sum(X, d):\n",
    "    sum = 0\n",
    "    \n",
    "    # loop over the transpose matrix in order to analyze by column\n",
    "    for a in range(0, d+1):\n",
    "        # + 4 since the scipy function for kurtosis subtracts 3 so +1 +3 = 4\n",
    "        sum += np.log(sstats.stats.kurtosis(X[:,a])+4)\n",
    "        \n",
    "    return sum\n",
    "mat_contents = sio.loadmat(\"satellite.mat\")\n",
    "\n",
    "\n",
    "test_data = mat_contents['X']\n",
    "\n",
    "'''\n",
    "\n",
    "\n",
    "\n",
    "# Python \n",
    "\n",
    "code = '''\n",
    "kurtosis_sum(test_data, test_data.shape[1]-1)\n",
    "'''\n",
    "for i in range(0,10):\n",
    "    print(\"Total time for kurtosis sum (python) = \", timeit(setup=setup_code, stmt=code, number=100))"
   ]
  },
  {
   "cell_type": "code",
   "execution_count": 39,
   "metadata": {},
   "outputs": [
    {
     "name": "stdout",
     "output_type": "stream",
     "text": [
      "Total time for kurtosis sum (cython) =  1.0919095469998865\n",
      "Total time for kurtosis sum (cython) =  1.1623525440008962\n",
      "Total time for kurtosis sum (cython) =  1.0357378009994136\n",
      "Total time for kurtosis sum (cython) =  1.1084858289996191\n",
      "Total time for kurtosis sum (cython) =  1.1147826469987194\n",
      "Total time for kurtosis sum (cython) =  1.084498797001288\n",
      "Total time for kurtosis sum (cython) =  1.0787436030004756\n",
      "Total time for kurtosis sum (cython) =  1.1252668859997357\n",
      "Total time for kurtosis sum (cython) =  1.1269218009983888\n",
      "Total time for kurtosis sum (cython) =  1.08067842499986\n"
     ]
    }
   ],
   "source": [
    "# Cython \n",
    "\n",
    "setup_code = '''\n",
    "import scipy.io as sio\n",
    "import scipy.stats as sstats\n",
    "import random \n",
    "import numpy as np\n",
    "import kurtosis_sum as ks_cy\n",
    "from timeit import timeit\n",
    "\n",
    "mat_contents = sio.loadmat(\"satellite.mat\")\n",
    "\n",
    "\n",
    "test_data = mat_contents['X']\n",
    "\n",
    "'''\n",
    "\n",
    "code = '''ks_cy.kurtosis_sum2(test_data, test_data.shape[1]-1)'''\n",
    "\n",
    "for i in range(0,10):\n",
    "    print(\"Total time for kurtosis sum (cython) = \", timeit(setup=setup_code, stmt=code, number=100))"
   ]
  },
  {
   "cell_type": "code",
   "execution_count": 1,
   "metadata": {},
   "outputs": [],
   "source": [
    "import scipy.io as sio\n",
    "import scipy.stats as sstats\n",
    "import random \n",
    "import numpy as np\n",
    "import rht\n",
    "import rhf\n",
    "import anomaly_score as a_s\n",
    "import Node\n",
    "# set the number of trees and max height\n",
    "H = 5\n",
    "T = 100\n",
    "mat_contents = sio.loadmat(\"../datasets/satellite.mat\")\n",
    "#dataset = mat_contents['X'] \n",
    "labels = mat_contents['y']\n",
    "dataset = np.array([[1,2],[70,3],[80,18],[90,2],[100,23],[110,12],[111,22],[112,19],[113,20],[114,21],[115,22],[116,34]])\n",
    "\n",
    "dataset = dataset.astype('float32') \n",
    "\n",
    "\n",
    "test_rhf = rhf.rhf(X=dataset, t=T, nd=0, h=H)\n"
   ]
  },
  {
   "cell_type": "code",
   "execution_count": 3,
   "metadata": {
    "scrolled": true
   },
   "outputs": [
    {
     "name": "stdout",
     "output_type": "stream",
     "text": [
      "i= 0\n",
      "x= [1. 2.]\n",
      "i= 1\n",
      "x= [70.  3.]\n",
      "i= 2\n",
      "x= [80. 18.]\n",
      "i= 3\n",
      "x= [90.  2.]\n",
      "i= 4\n",
      "x= [100.  23.]\n",
      "i= 5\n",
      "x= [110.  12.]\n",
      "i= 6\n",
      "x= [111.  22.]\n",
      "i= 7\n",
      "x= [112.  19.]\n",
      "i= 8\n",
      "x= [113.  20.]\n",
      "i= 9\n",
      "x= [114.  21.]\n",
      "i= 10\n",
      "x= [115.  22.]\n",
      "i= 11\n",
      "x= [116.  34.]\n"
     ]
    }
   ],
   "source": [
    "import importlib\n",
    "importlib.reload(Node)\n",
    "\n",
    "for i, x in enumerate(dataset):\n",
    "    print(\"i=\",i)\n",
    "    print(\"x=\",x)\n",
    "    score = a_s.anomaly_score(test_rhf, dataset.size, x)"
   ]
  },
  {
   "cell_type": "code",
   "execution_count": 3,
   "metadata": {},
   "outputs": [
    {
     "data": {
      "text/plain": [
       "b'\\x00\\x00\\x00\\x00'"
      ]
     },
     "execution_count": 3,
     "metadata": {},
     "output_type": "execute_result"
    }
   ],
   "source": []
  },
  {
   "cell_type": "code",
   "execution_count": null,
   "metadata": {},
   "outputs": [],
   "source": []
  }
 ],
 "metadata": {
  "kernelspec": {
   "display_name": "Python 3",
   "language": "python",
   "name": "python3"
  },
  "language_info": {
   "codemirror_mode": {
    "name": "ipython",
    "version": 3
   },
   "file_extension": ".py",
   "mimetype": "text/x-python",
   "name": "python",
   "nbconvert_exporter": "python",
   "pygments_lexer": "ipython3",
   "version": "3.7.4"
  }
 },
 "nbformat": 4,
 "nbformat_minor": 2
}
