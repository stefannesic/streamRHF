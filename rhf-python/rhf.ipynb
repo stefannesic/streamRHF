{
 "cells": [
  {
   "cell_type": "markdown",
   "metadata": {},
   "source": [
    "# Random Histogram Forest"
   ]
  },
  {
   "cell_type": "code",
   "execution_count": 1,
   "metadata": {},
   "outputs": [],
   "source": [
    "from timeit import timeit"
   ]
  },
  {
   "cell_type": "markdown",
   "metadata": {},
   "source": [
    "### Testing"
   ]
  },
  {
   "cell_type": "code",
   "execution_count": 2,
   "metadata": {
    "scrolled": true
   },
   "outputs": [
    {
     "name": "stdout",
     "output_type": "stream",
     "text": [
      "Total time for rhf-cython (train) =  276.1681841409991\n",
      "Total time for rhf-cython (train) =  276.6936287569988\n",
      "Total time for rhf-cython (train) =  260.6195142760007\n",
      "Total time for rhf-cython (train) =  253.41527432000294\n",
      "Total time for rhf-cython (train) =  246.1381310709985\n",
      "Total time for rhf-cython (train) =  243.79540850400008\n",
      "Total time for rhf-cython (train) =  238.01656887500212\n",
      "Total time for rhf-cython (train) =  241.9002185399986\n",
      "Total time for rhf-cython (train) =  238.15488693099906\n",
      "Total time for rhf-cython (train) =  251.28006793000168\n"
     ]
    },
    {
     "data": {
      "text/plain": [
       "'\\nfor i, x in enumerate(dataset):\\n    score = anomaly_score(test_rhf, dataset.size, x)\\n    np.append(scores, [score, labels[i]])\\n    print(\"score = \" + str(score) + \" | anomaly? \" + str(labels[i]))\\n'"
      ]
     },
     "execution_count": 2,
     "metadata": {},
     "output_type": "execute_result"
    }
   ],
   "source": [
    "\n",
    "setup_code='''\n",
    "import scipy.io as sio\n",
    "import scipy.stats as sstats\n",
    "import random \n",
    "import numpy as np\n",
    "import rht\n",
    "import rhf\n",
    "import anomaly_score as a_s\n",
    "import Node\n",
    "# set the number of trees and max height\n",
    "H = 5\n",
    "T = 100\n",
    "mat_contents = sio.loadmat(\"../datasets/satellite.mat\")\n",
    "dataset = mat_contents['X'] \n",
    "labels = mat_contents['y']\n",
    "dataset = dataset.astype('float32') \n",
    "'''\n",
    "code = '''\n",
    "test_rhf = rhf.rhf(X=dataset, t=T, nd=0, h=H)\n",
    "for i, x in enumerate(dataset):\n",
    "    score = a_s.anomaly_score(test_rhf, dataset.size, x)\n",
    "'''\n",
    "for i in range(0,10):\n",
    "    print(\"Total time for rhf-cython (train) = \", timeit(setup=setup_code, stmt=code, number=1))\n",
    "\n",
    "'''\n",
    "for i, x in enumerate(dataset):\n",
    "    score = anomaly_score(test_rhf, dataset.size, x)\n",
    "    np.append(scores, [score, labels[i]])\n",
    "    print(\"score = \" + str(score) + \" | anomaly? \" + str(labels[i]))\n",
    "'''\n",
    "    \n",
    "    \n"
   ]
  },
  {
   "cell_type": "raw",
   "metadata": {},
   "source": [
    "Total time for rhf-cython (train) =  276.1681841409991\n",
    "Total time for rhf-cython (train) =  276.6936287569988\n",
    "Total time for rhf-cython (train) =  260.6195142760007\n",
    "Total time for rhf-cython (train) =  253.41527432000294\n",
    "Total time for rhf-cython (train) =  246.1381310709985\n",
    "Total time for rhf-cython (train) =  243.79540850400008\n",
    "Total time for rhf-cython (train) =  238.01656887500212\n",
    "Total time for rhf-cython (train) =  241.9002185399986\n",
    "Total time for rhf-cython (train) =  238.15488693099906\n",
    "Total time for rhf-cython (train) =  251.28006793000168\n",
    "\n",
    "avg = 252.62 "
   ]
  },
  {
   "cell_type": "raw",
   "metadata": {},
   "source": [
    "Total time for rhf-cython (train) =  170.1039375170003\n",
    "Total time for rhf-cython (train) =  175.5351373409976\n",
    "Total time for rhf-cython (train) =  167.393852737001\n",
    "Total time for rhf-cython (train) =  168.40820503299983\n",
    "Total time for rhf-cython (train) =  168.79446701900088\n",
    "Total time for rhf-cython (train) =  163.14447762599957\n",
    "Total time for rhf-cython (train) =  170.23763702799988\n",
    "Total time for rhf-cython (train) =  164.87929114800136\n",
    "Total time for rhf-cython (train) =  169.77439191599842\n",
    "Total time for rhf-cython (train) =  168.89160224599982"
   ]
  },
  {
   "cell_type": "markdown",
   "metadata": {},
   "source": [
    "### Plotting"
   ]
  },
  {
   "cell_type": "code",
   "execution_count": null,
   "metadata": {},
   "outputs": [],
   "source": [
    "()"
   ]
  },
  {
   "cell_type": "code",
   "execution_count": null,
   "metadata": {},
   "outputs": [],
   "source": []
  }
 ],
 "metadata": {
  "kernelspec": {
   "display_name": "Python 3",
   "language": "python",
   "name": "python3"
  },
  "language_info": {
   "codemirror_mode": {
    "name": "ipython",
    "version": 3
   },
   "file_extension": ".py",
   "mimetype": "text/x-python",
   "name": "python",
   "nbconvert_exporter": "python",
   "pygments_lexer": "ipython3",
   "version": "3.7.4"
  }
 },
 "nbformat": 4,
 "nbformat_minor": 2
}
