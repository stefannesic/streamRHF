{
 "cells": [
  {
   "cell_type": "markdown",
   "metadata": {},
   "source": [
    "# Random Histogram Forest"
   ]
  },
  {
   "cell_type": "code",
   "execution_count": 1,
   "metadata": {},
   "outputs": [],
   "source": [
    "from timeit import timeit"
   ]
  },
  {
   "cell_type": "markdown",
   "metadata": {},
   "source": [
    "### Testing"
   ]
  },
  {
   "cell_type": "code",
   "execution_count": 2,
   "metadata": {
    "scrolled": true
   },
   "outputs": [
    {
     "name": "stdout",
     "output_type": "stream",
     "text": [
      "Total time for rhf-cython (train) =  61.36196113999904\n",
      "Total time for rhf-cython (train) =  59.265187810997304\n",
      "Total time for rhf-cython (train) =  64.36844525900233\n",
      "Total time for rhf-cython (train) =  65.24738665300174\n",
      "Total time for rhf-cython (train) =  66.39521962100116\n",
      "Total time for rhf-cython (train) =  64.37800065400006\n",
      "Total time for rhf-cython (train) =  65.36922295600016\n",
      "Total time for rhf-cython (train) =  61.21870875999957\n",
      "Total time for rhf-cython (train) =  62.87605189399983\n",
      "Total time for rhf-cython (train) =  61.114259398000286\n"
     ]
    }
   ],
   "source": [
    "setup_code='''\n",
    "import scipy.io as sio\n",
    "import scipy.stats as sstats\n",
    "import random \n",
    "import numpy as np\n",
    "import rht\n",
    "import rhf\n",
    "import anomaly_score as a_s\n",
    "import Node\n",
    "# set the number of trees and max height\n",
    "H = 5\n",
    "T = 100\n",
    "mat_contents = sio.loadmat(\"../datasets/cardio.mat\")\n",
    "dataset = mat_contents['X'] \n",
    "labels = mat_contents['y']\n",
    "dataset = dataset.astype('float32') \n",
    "'''\n",
    "code = '''\n",
    "test_rhf = rhf.rhf(X=dataset, t=T, nd=0, h=H)\n",
    "scores = np.empty(labels.size)\n",
    "for i, x in enumerate(dataset):\n",
    "    score = a_s.anomaly_score(test_rhf, dataset.size, x)\n",
    "    np.append(scores, score)    \n",
    "'''\n",
    "for i in range(0,10):\n",
    "    print(\"Total time for rhf-cython (train) = \", timeit(setup=setup_code, stmt=code, number=1))"
   ]
  },
  {
   "cell_type": "code",
   "execution_count": null,
   "metadata": {},
   "outputs": [],
   "source": [
    "\n",
    "setup_code='''\n",
    "import scipy.io as sio\n",
    "import scipy.stats as sstats\n",
    "import random \n",
    "import numpy as np\n",
    "import rht\n",
    "import rhf\n",
    "import anomaly_score as a_s\n",
    "import Node\n",
    "# set the number of trees and max height\n",
    "H = 5\n",
    "T = 100\n",
    "mat_contents = sio.loadmat(\"../datasets/shuttle.mat\")\n",
    "dataset = mat_contents['X'] \n",
    "labels = mat_contents['y']\n",
    "dataset = dataset.astype('float32') \n",
    "'''\n",
    "code = '''\n",
    "test_rhf = rhf.rhf(X=dataset, t=T, nd=0, h=H)\n",
    "for i, x in enumerate(dataset):\n",
    "    score = a_s.anomaly_score(test_rhf, dataset.size, x)\n",
    "'''\n",
    "for i in range(0,10):\n",
    "    print(\"Total time for rhf-cython (train) = \", timeit(setup=setup_code, stmt=code, number=1))\n",
    "  \n",
    "    \n"
   ]
  },
  {
   "cell_type": "raw",
   "metadata": {},
   "source": [
    "satellite.mat\n",
    "\n",
    "Total time for rhf-cython (train) =  254.41261015599594\n",
    "Total time for rhf-cython (train) =  295.458335891999\n",
    "Total time for rhf-cython (train) =  277.99285449900344\n",
    "Total time for rhf-cython (train) =  255.53784741699928\n",
    "Total time for rhf-cython (train) =  260.89134518799983\n",
    "Total time for rhf-cython (train) =  249.05701246500394\n",
    "Total time for rhf-cython (train) =  288.0293085519952\n",
    "Total time for rhf-cython (train) =  306.47687553200376\n",
    "Total time for rhf-cython (train) =  266.21711231600057\n",
    "Total time for rhf-cython (train) =  272.0486679509995\n",
    "\n",
    "Total time for rhf-cython (train) =  276.1681841409991\n",
    "Total time for rhf-cython (train) =  276.6936287569988\n",
    "Total time for rhf-cython (train) =  260.6195142760007\n",
    "Total time for rhf-cython (train) =  253.41527432000294\n",
    "Total time for rhf-cython (train) =  246.1381310709985\n",
    "Total time for rhf-cython (train) =  243.79540850400008\n",
    "Total time for rhf-cython (train) =  238.01656887500212\n",
    "Total time for rhf-cython (train) =  241.9002185399986\n",
    "Total time for rhf-cython (train) =  238.15488693099906\n",
    "Total time for rhf-cython (train) =  251.28006793000168\n",
    "\n",
    "avg = 252.62 "
   ]
  },
  {
   "cell_type": "raw",
   "metadata": {},
   "source": [
    "satellite.mat (without anomaly scoring)\n",
    "\n",
    "Total time for rhf-cython (train) =  170.1039375170003\n",
    "Total time for rhf-cython (train) =  175.5351373409976\n",
    "Total time for rhf-cython (train) =  167.393852737001\n",
    "Total time for rhf-cython (train) =  168.40820503299983\n",
    "Total time for rhf-cython (train) =  168.79446701900088\n",
    "Total time for rhf-cython (train) =  163.14447762599957\n",
    "Total time for rhf-cython (train) =  170.23763702799988\n",
    "Total time for rhf-cython (train) =  164.87929114800136\n",
    "Total time for rhf-cython (train) =  169.77439191599842\n",
    "Total time for rhf-cython (train) =  168.89160224599982\n",
    "\n",
    "avg = 168.71"
   ]
  },
  {
   "cell_type": "markdown",
   "metadata": {},
   "source": [
    "### Plotting"
   ]
  },
  {
   "cell_type": "code",
   "execution_count": null,
   "metadata": {},
   "outputs": [],
   "source": [
    "()"
   ]
  },
  {
   "cell_type": "code",
   "execution_count": null,
   "metadata": {},
   "outputs": [],
   "source": []
  }
 ],
 "metadata": {
  "kernelspec": {
   "display_name": "Python 3",
   "language": "python",
   "name": "python3"
  },
  "language_info": {
   "codemirror_mode": {
    "name": "ipython",
    "version": 3
   },
   "file_extension": ".py",
   "mimetype": "text/x-python",
   "name": "python",
   "nbconvert_exporter": "python",
   "pygments_lexer": "ipython3",
   "version": "3.7.4"
  }
 },
 "nbformat": 4,
 "nbformat_minor": 2
}
