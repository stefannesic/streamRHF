{
 "cells": [
  {
   "cell_type": "code",
   "execution_count": 1,
   "metadata": {},
   "outputs": [],
   "source": [
    "from my_imports import Node, np, rhf, rht, ins"
   ]
  },
  {
   "cell_type": "code",
   "execution_count": 2,
   "metadata": {},
   "outputs": [
    {
     "name": "stdout",
     "output_type": "stream",
     "text": [
      "\t\t[1. 2.]\n",
      "\ta0 < 1.2937490940093994\n",
      "\t\t\t[2. 3.]\n",
      "\t\ta1 < 3.661165952682495\n",
      "\t\t\t[3. 4.]\n",
      "a0 < 3.902742862701416\n",
      "\t[5. 6.]\n",
      "a= 0\n",
      "old_p= 0.5\n",
      "new_p= 0.48496802577696513\n",
      "a= 1\n",
      "old_p= 0.5\n",
      "new_p= 0.5150319236116904\n",
      "a= 0\n",
      "old_p= 0.5\n",
      "new_p= 0.4679516600609696\n",
      "a= 1\n",
      "old_p= 0.5\n",
      "new_p= 0.5320483110730234\n",
      "***********************************************\n",
      "\t\t\t[1. 2.]\n",
      "\t\ta1 < 2.5985331535339355\n",
      "\t\t\t[1. 3.]\n",
      "\ta0 < 1.2937490940093994\n",
      "\t\t\t[2. 3.]\n",
      "\t\ta1 < 3.661165952682495\n",
      "\t\t\t[3. 4.]\n",
      "a0 < 3.902742862701416\n",
      "\t[5. 6.]\n"
     ]
    }
   ],
   "source": [
    "#dataset = np.array([[1,2],[70,3],[80,18],[90,2],[100,23],[110,12],[111,22],[112,19],[113,20],[114,21],[115,22],[116,34]], dtype=np.float32)\n",
    "dataset = np.array([[1,2], [2,3], [3,4], [5,6]], dtype=np.float32)\n",
    "Node.Node.H = 5\n",
    "rht.eps = 0.0001\n",
    "test_rht = rhf.rhf(dataset, 1, 3)[0]\n",
    "Node.Node.printNode(test_rht, 0)\n",
    "res = ins.insert(test_rht, np.array([[1.0, 3.0]], dtype=np.float32))\n",
    "print(\"***********************************************\")\n",
    "Node.Node.printNode(res, 0)\n"
   ]
  },
  {
   "cell_type": "code",
   "execution_count": null,
   "metadata": {},
   "outputs": [],
   "source": []
  },
  {
   "cell_type": "code",
   "execution_count": null,
   "metadata": {},
   "outputs": [],
   "source": []
  }
 ],
 "metadata": {
  "kernelspec": {
   "display_name": "Python 3",
   "language": "python",
   "name": "python3"
  },
  "language_info": {
   "codemirror_mode": {
    "name": "ipython",
    "version": 3
   },
   "file_extension": ".py",
   "mimetype": "text/x-python",
   "name": "python",
   "nbconvert_exporter": "python",
   "pygments_lexer": "ipython3",
   "version": "3.8.5"
  }
 },
 "nbformat": 4,
 "nbformat_minor": 4
}
