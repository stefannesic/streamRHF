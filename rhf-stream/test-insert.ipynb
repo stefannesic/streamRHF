{
 "cells": [
  {
   "cell_type": "code",
   "execution_count": 1,
   "metadata": {},
   "outputs": [],
   "source": [
    "from my_imports import Node, np, rhf, rht, insert"
   ]
  },
  {
   "cell_type": "code",
   "execution_count": 5,
   "metadata": {},
   "outputs": [
    {
     "name": "stdout",
     "output_type": "stream",
     "text": [
      "\t\t[1. 2.]\n",
      "\ta1 < 2.012157678604126\n",
      "\t\t[2. 3.]\n",
      "a1 < 3.1985411643981934\n",
      "\t\t[3. 4.]\n",
      "\ta1 < 5.302802085876465\n",
      "\t\t[5. 6.]\n",
      "----------------------------\n",
      "w= [[2. 3.]\n",
      " [1. 3.]]\n",
      "[2. 3.]\n",
      "[1. 3.]\n",
      "***********************************************\n",
      "\t\t[1. 2.]\n",
      "\ta1 < 2.012157678604126\n",
      "\t\t[2. 3.]\n",
      "\t\t[1. 3.]\n",
      "a1 < 3.1985411643981934\n",
      "\t\t[3. 4.]\n",
      "\ta1 < 5.302802085876465\n",
      "\t\t[5. 6.]\n"
     ]
    }
   ],
   "source": [
    "#dataset = np.array([[1,2],[70,3],[80,18],[90,2],[100,23],[110,12],[111,22],[112,19],[113,20],[114,21],[115,22],[116,34]], dtype=np.float32)\n",
    "dataset = np.array([[1,2], [2,3], [3,4], [5,6]], dtype=np.float32)\n",
    "Node.Node.H = 5\n",
    "test_rht = rhf.rhf(dataset, 1, 2)[0]\n",
    "Node.Node.printNode(test_rht, 0)\n",
    "insert.insert(test_rht, np.array([1.0, 3.0]))\n",
    "print(\"***********************************************\")\n",
    "Node.Node.printNode(test_rht, 0)\n"
   ]
  },
  {
   "cell_type": "code",
   "execution_count": 10,
   "metadata": {},
   "outputs": [],
   "source": [
    "arr = np.array([[1.,3.]])\n",
    "arr2 = np.array([[1., 2.], [2,3]])\n"
   ]
  },
  {
   "cell_type": "code",
   "execution_count": 11,
   "metadata": {},
   "outputs": [
    {
     "data": {
      "text/plain": [
       "True"
      ]
     },
     "execution_count": 11,
     "metadata": {},
     "output_type": "execute_result"
    }
   ],
   "source": [
    "np.any(np.all(np.isin(arr,arr2, True)))\n",
    "\n"
   ]
  },
  {
   "cell_type": "code",
   "execution_count": 32,
   "metadata": {},
   "outputs": [
    {
     "data": {
      "text/plain": [
       "True"
      ]
     },
     "execution_count": 32,
     "metadata": {},
     "output_type": "execute_result"
    }
   ],
   "source": []
  },
  {
   "cell_type": "code",
   "execution_count": null,
   "metadata": {},
   "outputs": [],
   "source": []
  }
 ],
 "metadata": {
  "kernelspec": {
   "display_name": "Python 3",
   "language": "python",
   "name": "python3"
  },
  "language_info": {
   "codemirror_mode": {
    "name": "ipython",
    "version": 3
   },
   "file_extension": ".py",
   "mimetype": "text/x-python",
   "name": "python",
   "nbconvert_exporter": "python",
   "pygments_lexer": "ipython3",
   "version": "3.8.5"
  }
 },
 "nbformat": 4,
 "nbformat_minor": 4
}
