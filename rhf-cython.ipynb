{
 "cells": [
  {
   "cell_type": "markdown",
   "metadata": {},
   "source": [
    "# Random Histogram Forest"
   ]
  },
  {
   "cell_type": "code",
   "execution_count": 2,
   "metadata": {
    "scrolled": true
   },
   "outputs": [],
   "source": [
    "import scipy.io as sio\n",
    "import scipy.stats as sstats\n",
    "import random \n",
    "import numpy as np\n",
    "import kurtosis_sum as ks_cy\n",
    "from timeit import timeit"
   ]
  },
  {
   "cell_type": "code",
   "execution_count": 51,
   "metadata": {},
   "outputs": [],
   "source": [
    "# set the number of trees and max height\n",
    "H = 5\n",
    "T = 100"
   ]
  },
  {
   "cell_type": "markdown",
   "metadata": {},
   "source": [
    "### Definition of Node and Leaf classes"
   ]
  },
  {
   "cell_type": "code",
   "execution_count": 52,
   "metadata": {},
   "outputs": [],
   "source": [
    "# a Node has contains a splitting value, splitting attribute as well as left and right trees\n",
    "class Node:\n",
    "    def __init__(self, value, attribute, left, right):\n",
    "        self.value = value\n",
    "        self.attribute = attribute\n",
    "        self.left = left\n",
    "        self.right = right\n",
    "\n",
    "    # prints the data and splitting information in order of left branch, parent node, right branch\n",
    "    def printNode(self, level):\n",
    "        tabs = \"\"\n",
    "        for i in range(0, level):\n",
    "            tabs += \"\\t\"\n",
    "        # Leaf case\n",
    "        if (self.left is None and self.right is None):\n",
    "            print(tabs + str(self.data))\n",
    "        else:\n",
    "            # taking into account splits that have all instances on one side\n",
    "            if self.left is not None:\n",
    "                Node.printNode(self.left, level+1)\n",
    "            print(tabs + \"a\" + str(self.attribute) + \" < \" + str(self.value))\n",
    "            if self.right is not None:\n",
    "                Node.printNode(self.right, level+1)\n",
    "\n",
    "# a Leaf is a Node that has all parameters set to None except for data which contains its instances\n",
    "class Leaf(Node):\n",
    "    def __init__(self, data):\n",
    "        super().__init__(value=None, attribute=None, left=None, right=None)\n",
    "        self.data = data"
   ]
  },
  {
   "cell_type": "markdown",
   "metadata": {},
   "source": [
    "### Splitting functions"
   ]
  },
  {
   "cell_type": "code",
   "execution_count": 53,
   "metadata": {},
   "outputs": [],
   "source": [
    "# use kurtosis sum to get best attribute for the split\n",
    "# returns attribute, its column and a random split value\n",
    "def get_attribute(X, r):\n",
    "    for a in range(0, X.shape[1]):\n",
    "        if ks_cy.kurtosis_sum(X, a) > r:\n",
    "            a_col = X[:, a]\n",
    "                        \n",
    "            # ensures that the split will be proper (no split on extremes)\n",
    "            a_val = np.amin(a_col)\n",
    "\n",
    "            while a_val == np.amin(a_col) or a_val == np.max(a_col):\n",
    "                a_val = random.uniform(np.amin(a_col), np.amax(a_col))\n",
    "\n",
    "            return a, a_col, a_val"
   ]
  },
  {
   "cell_type": "markdown",
   "metadata": {},
   "source": [
    "### Core algorithms"
   ]
  },
  {
   "cell_type": "code",
   "execution_count": 54,
   "metadata": {},
   "outputs": [],
   "source": [
    "# construction of a random histogram tree\n",
    "def rht(X, nd, h):\n",
    "    # last condition checks if all instances are the same --> split not possible\n",
    "    if nd >= h or X.shape[0] == 1 or np.unique(X, axis=0).size == 1:\n",
    "        # returns instances without duplicates\n",
    "        return Leaf(np.unique(X, axis=0))\n",
    "    else:\n",
    "        # attribute selected according to kurtosis\n",
    "        ks = ks_cy.kurtosis_sum(X, X.shape[1]-1)\n",
    "        # ks may not be included depending on rounding\n",
    "        r = random.uniform(0, ks)\n",
    "        \n",
    "        a, a_col, a_val = get_attribute(X, r)\n",
    "             \n",
    "        Xl = X[X[:, a] < a_val]\n",
    "        Xr = X[X[:, a] >= a_val]\n",
    "\n",
    "        Xl = rht(Xl, nd + 1, h)\n",
    "        Xr = rht(Xr, nd + 1, h)\n",
    "\n",
    "        return Node(a_val, a, Xl, Xr)\n",
    "\n",
    "# construction of a random histogram forest\n",
    "def rhf(X, t, nd, h):\n",
    "    # create an empty forest\n",
    "    rhf = np.empty([t], dtype=object)\n",
    "\n",
    "    # append t random histogram trees\n",
    "    for i in range(t):\n",
    "        rhf[i] = rht(X, nd, h)\n",
    "\n",
    "    return rhf"
   ]
  },
  {
   "cell_type": "markdown",
   "metadata": {},
   "source": [
    "### Anomaly scoring"
   ]
  },
  {
   "cell_type": "code",
   "execution_count": 55,
   "metadata": {},
   "outputs": [],
   "source": [
    "def anomaly_score(rhf, n, x):\n",
    "    sum = 0\n",
    "    \n",
    "    for i in range(0, rhf.size):\n",
    "        # number of distinct instances in the leaf of the given instance\n",
    "        leaf_size = find_instance(rhf[i], x).data.size\n",
    "        p = leaf_size / n\n",
    "        sum += np.log(1 / p)\n",
    "        \n",
    "    return sum\n",
    "\n",
    "# returns Leaf of instance in a RHT\n",
    "def find_instance(rht, x):\n",
    "    if rht.left != None or rht.right != None:\n",
    "        # not leaf\n",
    "        a = rht.attribute\n",
    "        a_val = rht.value\n",
    "        \n",
    "        if (x[a] < a_val):\n",
    "            return find_instance(rht.left, x)\n",
    "        else: \n",
    "            return find_instance(rht.right, x)\n",
    "    else:\n",
    "        # leaf\n",
    "        if x in rht.data:\n",
    "            return rht"
   ]
  },
  {
   "cell_type": "markdown",
   "metadata": {},
   "source": [
    "### Unit tests"
   ]
  },
  {
   "cell_type": "code",
   "execution_count": null,
   "metadata": {},
   "outputs": [],
   "source": []
  },
  {
   "cell_type": "markdown",
   "metadata": {},
   "source": [
    "### Testing"
   ]
  },
  {
   "cell_type": "code",
   "execution_count": 40,
   "metadata": {
    "scrolled": true
   },
   "outputs": [
    {
     "ename": "ValueError",
     "evalue": "Buffer dtype mismatch, expected 'float' but got 'long'",
     "output_type": "error",
     "traceback": [
      "\u001b[0;31m---------------------------------------------------------------------------\u001b[0m",
      "\u001b[0;31mValueError\u001b[0m                                Traceback (most recent call last)",
      "\u001b[0;32m<ipython-input-40-907a9f0bd8f2>\u001b[0m in \u001b[0;36m<module>\u001b[0;34m\u001b[0m\n\u001b[1;32m     10\u001b[0m \u001b[0;31m#Node.printNode(rhf(X=dataset, t=T, nd=0, h=H)[0])\u001b[0m\u001b[0;34m\u001b[0m\u001b[0;34m\u001b[0m\u001b[0;34m\u001b[0m\u001b[0m\n\u001b[1;32m     11\u001b[0m \u001b[0;31m#Node.printNode(rht(X=dataset, nd=0, h=H))\u001b[0m\u001b[0;34m\u001b[0m\u001b[0;34m\u001b[0m\u001b[0;34m\u001b[0m\u001b[0m\n\u001b[0;32m---> 12\u001b[0;31m \u001b[0mtest_rhf\u001b[0m \u001b[0;34m=\u001b[0m \u001b[0mrhf\u001b[0m\u001b[0;34m(\u001b[0m\u001b[0mX\u001b[0m\u001b[0;34m=\u001b[0m\u001b[0mdataset\u001b[0m\u001b[0;34m,\u001b[0m \u001b[0mt\u001b[0m\u001b[0;34m=\u001b[0m\u001b[0mT\u001b[0m\u001b[0;34m,\u001b[0m \u001b[0mnd\u001b[0m\u001b[0;34m=\u001b[0m\u001b[0;36m0\u001b[0m\u001b[0;34m,\u001b[0m \u001b[0mh\u001b[0m\u001b[0;34m=\u001b[0m\u001b[0mH\u001b[0m\u001b[0;34m)\u001b[0m\u001b[0;34m\u001b[0m\u001b[0;34m\u001b[0m\u001b[0m\n\u001b[0m\u001b[1;32m     13\u001b[0m \u001b[0;34m\u001b[0m\u001b[0m\n\u001b[1;32m     14\u001b[0m \u001b[0;34m\u001b[0m\u001b[0m\n",
      "\u001b[0;32m<ipython-input-7-3237cefc3b02>\u001b[0m in \u001b[0;36mrhf\u001b[0;34m(X, t, nd, h)\u001b[0m\n\u001b[1;32m     28\u001b[0m     \u001b[0;31m# append t random histogram trees\u001b[0m\u001b[0;34m\u001b[0m\u001b[0;34m\u001b[0m\u001b[0;34m\u001b[0m\u001b[0m\n\u001b[1;32m     29\u001b[0m     \u001b[0;32mfor\u001b[0m \u001b[0mi\u001b[0m \u001b[0;32min\u001b[0m \u001b[0mrange\u001b[0m\u001b[0;34m(\u001b[0m\u001b[0mt\u001b[0m\u001b[0;34m)\u001b[0m\u001b[0;34m:\u001b[0m\u001b[0;34m\u001b[0m\u001b[0;34m\u001b[0m\u001b[0m\n\u001b[0;32m---> 30\u001b[0;31m         \u001b[0mrhf\u001b[0m\u001b[0;34m[\u001b[0m\u001b[0mi\u001b[0m\u001b[0;34m]\u001b[0m \u001b[0;34m=\u001b[0m \u001b[0mrht\u001b[0m\u001b[0;34m(\u001b[0m\u001b[0mX\u001b[0m\u001b[0;34m,\u001b[0m \u001b[0mnd\u001b[0m\u001b[0;34m,\u001b[0m \u001b[0mh\u001b[0m\u001b[0;34m)\u001b[0m\u001b[0;34m\u001b[0m\u001b[0;34m\u001b[0m\u001b[0m\n\u001b[0m\u001b[1;32m     31\u001b[0m \u001b[0;34m\u001b[0m\u001b[0m\n\u001b[1;32m     32\u001b[0m     \u001b[0;32mreturn\u001b[0m \u001b[0mrhf\u001b[0m\u001b[0;34m\u001b[0m\u001b[0;34m\u001b[0m\u001b[0m\n",
      "\u001b[0;32m<ipython-input-7-3237cefc3b02>\u001b[0m in \u001b[0;36mrht\u001b[0;34m(X, nd, h)\u001b[0m\n\u001b[1;32m      7\u001b[0m     \u001b[0;32melse\u001b[0m\u001b[0;34m:\u001b[0m\u001b[0;34m\u001b[0m\u001b[0;34m\u001b[0m\u001b[0m\n\u001b[1;32m      8\u001b[0m         \u001b[0;31m# attribute selected according to kurtosis\u001b[0m\u001b[0;34m\u001b[0m\u001b[0;34m\u001b[0m\u001b[0;34m\u001b[0m\u001b[0m\n\u001b[0;32m----> 9\u001b[0;31m         \u001b[0mks\u001b[0m \u001b[0;34m=\u001b[0m \u001b[0mks_cy\u001b[0m\u001b[0;34m.\u001b[0m\u001b[0mkurtosis_sum\u001b[0m\u001b[0;34m(\u001b[0m\u001b[0mX\u001b[0m\u001b[0;34m,\u001b[0m \u001b[0mX\u001b[0m\u001b[0;34m.\u001b[0m\u001b[0mshape\u001b[0m\u001b[0;34m[\u001b[0m\u001b[0;36m1\u001b[0m\u001b[0;34m]\u001b[0m\u001b[0;34m-\u001b[0m\u001b[0;36m1\u001b[0m\u001b[0;34m)\u001b[0m\u001b[0;34m\u001b[0m\u001b[0;34m\u001b[0m\u001b[0m\n\u001b[0m\u001b[1;32m     10\u001b[0m         \u001b[0;31m# ks may not be included depending on rounding\u001b[0m\u001b[0;34m\u001b[0m\u001b[0;34m\u001b[0m\u001b[0;34m\u001b[0m\u001b[0m\n\u001b[1;32m     11\u001b[0m         \u001b[0mr\u001b[0m \u001b[0;34m=\u001b[0m \u001b[0mrandom\u001b[0m\u001b[0;34m.\u001b[0m\u001b[0muniform\u001b[0m\u001b[0;34m(\u001b[0m\u001b[0;36m0\u001b[0m\u001b[0;34m,\u001b[0m \u001b[0mks\u001b[0m\u001b[0;34m)\u001b[0m\u001b[0;34m\u001b[0m\u001b[0;34m\u001b[0m\u001b[0m\n",
      "\u001b[0;32m~/Documents/telecom paris/cdd/rhf/kurtosis_sum.pyx\u001b[0m in \u001b[0;36mkurtosis_sum.kurtosis_sum\u001b[0;34m()\u001b[0m\n\u001b[1;32m      5\u001b[0m \u001b[0;34m\u001b[0m\u001b[0m\n\u001b[1;32m      6\u001b[0m \u001b[0;31m# sum of log(Kurtosis(X[a] + 1)) of attributes 0 to d inclusive\u001b[0m\u001b[0;34m\u001b[0m\u001b[0;34m\u001b[0m\u001b[0;34m\u001b[0m\u001b[0m\n\u001b[0;32m----> 7\u001b[0;31m \u001b[0;32mdef\u001b[0m \u001b[0mkurtosis_sum\u001b[0m\u001b[0;34m(\u001b[0m\u001b[0mint\u001b[0m\u001b[0;34m[\u001b[0m\u001b[0;34m:\u001b[0m\u001b[0;34m,\u001b[0m\u001b[0;34m:\u001b[0m\u001b[0;34m]\u001b[0m \u001b[0mX\u001b[0m\u001b[0;34m,\u001b[0m \u001b[0mPy_ssize_t\u001b[0m \u001b[0md\u001b[0m\u001b[0;34m)\u001b[0m\u001b[0;34m:\u001b[0m\u001b[0;34m\u001b[0m\u001b[0;34m\u001b[0m\u001b[0m\n\u001b[0m\u001b[1;32m      8\u001b[0m         \u001b[0mcdef\u001b[0m \u001b[0mint\u001b[0m \u001b[0msum\u001b[0m \u001b[0;34m=\u001b[0m \u001b[0;36m0\u001b[0m\u001b[0;34m\u001b[0m\u001b[0;34m\u001b[0m\u001b[0m\n\u001b[1;32m      9\u001b[0m         \u001b[0mcdef\u001b[0m \u001b[0mPy_ssize_t\u001b[0m \u001b[0ma\u001b[0m\u001b[0;34m\u001b[0m\u001b[0;34m\u001b[0m\u001b[0m\n",
      "\u001b[0;31mValueError\u001b[0m: Buffer dtype mismatch, expected 'float' but got 'long'"
     ]
    }
   ],
   "source": [
    "# extract matlab data from dataset in the form of a dictionary of numpy arrays\n",
    "# X is the data, y are the labels\n",
    "mat_contents = sio.loadmat(\"satellite.mat\")\n",
    "\n",
    "#dataset = mat_contents['X'] \n",
    "#labels = mat_contents['y']\n",
    "dataset = np.array([[1],[70],[80],[90],[100],[110],[111],[112],[113],[114],[115],[116]])\n",
    "\n",
    "# print the first random histogram tree for the above dataset \n",
    "#Node.printNode(rhf(X=dataset, t=T, nd=0, h=H)[0])\n",
    "#Node.printNode(rht(X=dataset, nd=0, h=H))\n",
    "test_rhf = rhf(X=dataset, t=T, nd=0, h=H)\n",
    "\n",
    "\n",
    "Node.printNode(test_rhf[0], 0)\n",
    "\n",
    "'''scores = np.array([dataset.shape[0], 2])\n",
    "for i, x in enumerate(dataset):\n",
    "    score = anomaly_score(test_rhf, dataset.size, x)\n",
    "    np.append(scores, [score, labels[i]])\n",
    "    print(\"score = \" + str(score) + \" | anomaly? \" + str(labels[i]))\n",
    "    '''\n",
    "    \n"
   ]
  },
  {
   "cell_type": "markdown",
   "metadata": {},
   "source": [
    "### Testing Python vs Cython speed"
   ]
  },
  {
   "cell_type": "code",
   "execution_count": 23,
   "metadata": {},
   "outputs": [],
   "source": []
  },
  {
   "cell_type": "code",
   "execution_count": 8,
   "metadata": {},
   "outputs": [],
   "source": [
    " "
   ]
  },
  {
   "cell_type": "code",
   "execution_count": 38,
   "metadata": {},
   "outputs": [
    {
     "name": "stdout",
     "output_type": "stream",
     "text": [
      "Total time for kurtosis sum (python) =  1.11729780800124\n",
      "Total time for kurtosis sum (python) =  1.0739590100001806\n",
      "Total time for kurtosis sum (python) =  1.0495012139999744\n",
      "Total time for kurtosis sum (python) =  1.0497420669998974\n",
      "Total time for kurtosis sum (python) =  1.0502796979999403\n",
      "Total time for kurtosis sum (python) =  1.0653134689982835\n",
      "Total time for kurtosis sum (python) =  1.0392168799990031\n",
      "Total time for kurtosis sum (python) =  1.0634308279986726\n",
      "Total time for kurtosis sum (python) =  1.0469607429986354\n",
      "Total time for kurtosis sum (python) =  1.1195489530000486\n"
     ]
    }
   ],
   "source": [
    "\n",
    "setup_code = '''\n",
    "import scipy.io as sio\n",
    "import scipy.stats as sstats\n",
    "import random \n",
    "import numpy as np\n",
    "import kurtosis_sum as ks_cy\n",
    "from timeit import timeit\n",
    "\n",
    "# sum of log(Kurtosis(X[a] + 1)) of attributes 0 to d inclusive\n",
    "def kurtosis_sum(X, d):\n",
    "    sum = 0\n",
    "    \n",
    "    # loop over the transpose matrix in order to analyze by column\n",
    "    for a in range(0, d+1):\n",
    "        # + 4 since the scipy function for kurtosis subtracts 3 so +1 +3 = 4\n",
    "        sum += np.log(sstats.stats.kurtosis(X[:,a])+4)\n",
    "        \n",
    "    return sum\n",
    "mat_contents = sio.loadmat(\"satellite.mat\")\n",
    "\n",
    "\n",
    "test_data = mat_contents['X']\n",
    "\n",
    "'''\n",
    "\n",
    "\n",
    "\n",
    "# Python \n",
    "\n",
    "code = '''\n",
    "kurtosis_sum(test_data, test_data.shape[1]-1)\n",
    "'''\n",
    "for i in range(0,10):\n",
    "    print(\"Total time for kurtosis sum (python) = \", timeit(setup=setup_code, stmt=code, number=100))"
   ]
  },
  {
   "cell_type": "code",
   "execution_count": 39,
   "metadata": {},
   "outputs": [
    {
     "name": "stdout",
     "output_type": "stream",
     "text": [
      "Total time for kurtosis sum (cython) =  1.0919095469998865\n",
      "Total time for kurtosis sum (cython) =  1.1623525440008962\n",
      "Total time for kurtosis sum (cython) =  1.0357378009994136\n",
      "Total time for kurtosis sum (cython) =  1.1084858289996191\n",
      "Total time for kurtosis sum (cython) =  1.1147826469987194\n",
      "Total time for kurtosis sum (cython) =  1.084498797001288\n",
      "Total time for kurtosis sum (cython) =  1.0787436030004756\n",
      "Total time for kurtosis sum (cython) =  1.1252668859997357\n",
      "Total time for kurtosis sum (cython) =  1.1269218009983888\n",
      "Total time for kurtosis sum (cython) =  1.08067842499986\n"
     ]
    }
   ],
   "source": [
    "# Cython \n",
    "\n",
    "setup_code = '''\n",
    "import scipy.io as sio\n",
    "import scipy.stats as sstats\n",
    "import random \n",
    "import numpy as np\n",
    "import kurtosis_sum as ks_cy\n",
    "from timeit import timeit\n",
    "\n",
    "mat_contents = sio.loadmat(\"satellite.mat\")\n",
    "\n",
    "\n",
    "test_data = mat_contents['X']\n",
    "\n",
    "'''\n",
    "\n",
    "code = '''ks_cy.kurtosis_sum2(test_data, test_data.shape[1]-1)'''\n",
    "\n",
    "for i in range(0,10):\n",
    "    print(\"Total time for kurtosis sum (cython) = \", timeit(setup=setup_code, stmt=code, number=100))"
   ]
  },
  {
   "cell_type": "code",
   "execution_count": null,
   "metadata": {},
   "outputs": [],
   "source": []
  }
 ],
 "metadata": {
  "kernelspec": {
   "display_name": "Python 3",
   "language": "python",
   "name": "python3"
  },
  "language_info": {
   "codemirror_mode": {
    "name": "ipython",
    "version": 3
   },
   "file_extension": ".py",
   "mimetype": "text/x-python",
   "name": "python",
   "nbconvert_exporter": "python",
   "pygments_lexer": "ipython3",
   "version": "3.7.4"
  }
 },
 "nbformat": 4,
 "nbformat_minor": 2
}
