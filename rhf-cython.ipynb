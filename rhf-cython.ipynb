{
 "cells": [
  {
   "cell_type": "markdown",
   "metadata": {},
   "source": [
    "# Random Histogram Forest"
   ]
  },
  {
   "cell_type": "code",
   "execution_count": 43,
   "metadata": {
    "scrolled": true
   },
   "outputs": [],
   "source": [
    "import scipy.io as sio\n",
    "import scipy.stats as sstats\n",
    "import random \n",
    "import numpy as np\n",
    "import kurtosis_sum as ks_cy\n",
    "import time"
   ]
  },
  {
   "cell_type": "code",
   "execution_count": 2,
   "metadata": {},
   "outputs": [],
   "source": [
    "# set the number of trees and max height\n",
    "H = 5\n",
    "T = 100"
   ]
  },
  {
   "cell_type": "markdown",
   "metadata": {},
   "source": [
    "### Definition of Node and Leaf classes"
   ]
  },
  {
   "cell_type": "code",
   "execution_count": 3,
   "metadata": {},
   "outputs": [],
   "source": [
    "# a Node has contains a splitting value, splitting attribute as well as left and right trees\n",
    "class Node:\n",
    "    def __init__(self, value, attribute, left, right):\n",
    "        self.value = value\n",
    "        self.attribute = attribute\n",
    "        self.left = left\n",
    "        self.right = right\n",
    "\n",
    "    # prints the data and splitting information in order of left branch, parent node, right branch\n",
    "    def printNode(self, level):\n",
    "        tabs = \"\"\n",
    "        for i in range(0, level):\n",
    "            tabs += \"\\t\"\n",
    "        # Leaf case\n",
    "        if (self.left is None and self.right is None):\n",
    "            print(tabs + str(self.data))\n",
    "        else:\n",
    "            # taking into account splits that have all instances on one side\n",
    "            if self.left is not None:\n",
    "                Node.printNode(self.left, level+1)\n",
    "            print(tabs + \"a\" + str(self.attribute) + \" < \" + str(self.value))\n",
    "            if self.right is not None:\n",
    "                Node.printNode(self.right, level+1)\n",
    "\n",
    "# a Leaf is a Node that has all parameters set to None except for data which contains its instances\n",
    "class Leaf(Node):\n",
    "    def __init__(self, data):\n",
    "        super().__init__(value=None, attribute=None, left=None, right=None)\n",
    "        self.data = data"
   ]
  },
  {
   "cell_type": "markdown",
   "metadata": {},
   "source": [
    "### Splitting functions"
   ]
  },
  {
   "cell_type": "code",
   "execution_count": 4,
   "metadata": {},
   "outputs": [],
   "source": [
    "# use kurtosis sum to get best attribute for the split\n",
    "# returns attribute, its column and a random split value\n",
    "def get_attribute(X, r):\n",
    "    for a in range(0, X.shape[1]):\n",
    "        if ks_cy.kurtosis_sum(X, a) > r:\n",
    "            a_col = X[:, a]\n",
    "                        \n",
    "            # ensures that the split will be proper (no split on extremes)\n",
    "            a_val = np.amin(a_col)\n",
    "\n",
    "            while a_val == np.amin(a_col) or a_val == np.max(a_col):\n",
    "                a_val = random.uniform(np.amin(a_col), np.amax(a_col))\n",
    "\n",
    "            return a, a_col, a_val"
   ]
  },
  {
   "cell_type": "markdown",
   "metadata": {},
   "source": [
    "### Core algorithms"
   ]
  },
  {
   "cell_type": "code",
   "execution_count": 5,
   "metadata": {},
   "outputs": [],
   "source": [
    "# construction of a random histogram tree\n",
    "def rht(X, nd, h):\n",
    "    # last condition checks if all instances are the same --> split not possible\n",
    "    if nd >= h or X.shape[0] == 1 or np.unique(X, axis=0).size == 1:\n",
    "        # returns instances without duplicates\n",
    "        return Leaf(np.unique(X, axis=0))\n",
    "    else:\n",
    "        # attribute selected according to kurtosis\n",
    "        ks = ks_cy.kurtosis_sum(X, X.shape[1]-1)\n",
    "        # ks may not be included depending on rounding\n",
    "        r = random.uniform(0, ks)\n",
    "        \n",
    "        a, a_col, a_val = get_attribute(X, r)\n",
    "             \n",
    "        Xl = X[X[:, a] < a_val]\n",
    "        Xr = X[X[:, a] >= a_val]\n",
    "\n",
    "        Xl = rht(Xl, nd + 1, h)\n",
    "        Xr = rht(Xr, nd + 1, h)\n",
    "\n",
    "        return Node(a_val, a, Xl, Xr)\n",
    "\n",
    "# construction of a random histogram forest\n",
    "def rhf(X, t, nd, h):\n",
    "    # create an empty forest\n",
    "    rhf = np.empty([t], dtype=object)\n",
    "\n",
    "    # append t random histogram trees\n",
    "    for i in range(t):\n",
    "        rhf[i] = rht(X, nd, h)\n",
    "\n",
    "    return rhf"
   ]
  },
  {
   "cell_type": "markdown",
   "metadata": {},
   "source": [
    "### Anomaly scoring"
   ]
  },
  {
   "cell_type": "code",
   "execution_count": 6,
   "metadata": {},
   "outputs": [],
   "source": [
    "def anomaly_score(rhf, n, x):\n",
    "    sum = 0\n",
    "    \n",
    "    for i in range(0, rhf.size):\n",
    "        # number of distinct instances in the leaf of the given instance\n",
    "        leaf_size = find_instance(rhf[i], x).data.size\n",
    "        p = leaf_size / n\n",
    "        sum += np.log(1 / p)\n",
    "        \n",
    "    return sum\n",
    "\n",
    "# returns Leaf of instance in a RHT\n",
    "def find_instance(rht, x):\n",
    "    if rht.left != None or rht.right != None:\n",
    "        # not leaf\n",
    "        a = rht.attribute\n",
    "        a_val = rht.value\n",
    "        \n",
    "        if (x[a] < a_val):\n",
    "            return find_instance(rht.left, x)\n",
    "        else: \n",
    "            return find_instance(rht.right, x)\n",
    "    else:\n",
    "        # leaf\n",
    "        if x in rht.data:\n",
    "            return rht"
   ]
  },
  {
   "cell_type": "markdown",
   "metadata": {},
   "source": [
    "### Unit tests"
   ]
  },
  {
   "cell_type": "code",
   "execution_count": null,
   "metadata": {},
   "outputs": [],
   "source": []
  },
  {
   "cell_type": "markdown",
   "metadata": {},
   "source": [
    "### Testing"
   ]
  },
  {
   "cell_type": "code",
   "execution_count": 7,
   "metadata": {
    "scrolled": true
   },
   "outputs": [
    {
     "name": "stdout",
     "output_type": "stream",
     "text": [
      "\t\t[[1]]\n",
      "\ta0 < 3.3885236864068413\n",
      "\t\t[[70]]\n",
      "a0 < 76.49813462170493\n",
      "\t\t\t[[80]]\n",
      "\t\ta0 < 84.79090975838015\n",
      "\t\t\t[[90]]\n",
      "\ta0 < 92.49717338463756\n",
      "\t\t\t[[100]]\n",
      "\t\ta0 < 104.80524376383913\n",
      "\t\t\t\t\t[[110]\n",
      " [111]]\n",
      "\t\t\t\ta0 < 111.79283337880022\n",
      "\t\t\t\t\t[[112]]\n",
      "\t\t\ta0 < 112.60269423464402\n",
      "\t\t\t\t\t[[113]\n",
      " [114]]\n",
      "\t\t\t\ta0 < 114.23644256203144\n",
      "\t\t\t\t\t[[115]\n",
      " [116]]\n"
     ]
    },
    {
     "data": {
      "text/plain": [
       "'scores = np.array([dataset.shape[0], 2])\\nfor i, x in enumerate(dataset):\\n    score = anomaly_score(test_rhf, dataset.size, x)\\n    np.append(scores, [score, labels[i]])\\n    print(\"score = \" + str(score) + \" | anomaly? \" + str(labels[i]))\\n    '"
      ]
     },
     "execution_count": 7,
     "metadata": {},
     "output_type": "execute_result"
    }
   ],
   "source": [
    "# extract matlab data from dataset in the form of a dictionary of numpy arrays\n",
    "# X is the data, y are the labels\n",
    "mat_contents = sio.loadmat(\"satellite.mat\")\n",
    "\n",
    "#dataset = mat_contents['X'] \n",
    "#labels = mat_contents['y']\n",
    "dataset = np.array([[1],[70],[80],[90],[100],[110],[111],[112],[113],[114],[115],[116]])\n",
    "\n",
    "# print the first random histogram tree for the above dataset \n",
    "#Node.printNode(rhf(X=dataset, t=T, nd=0, h=H)[0])\n",
    "#Node.printNode(rht(X=dataset, nd=0, h=H))\n",
    "test_rhf = rhf(X=dataset, t=T, nd=0, h=H)\n",
    "\n",
    "\n",
    "Node.printNode(test_rhf[0], 0)\n",
    "\n",
    "'''scores = np.array([dataset.shape[0], 2])\n",
    "for i, x in enumerate(dataset):\n",
    "    score = anomaly_score(test_rhf, dataset.size, x)\n",
    "    np.append(scores, [score, labels[i]])\n",
    "    print(\"score = \" + str(score) + \" | anomaly? \" + str(labels[i]))\n",
    "    '''\n",
    "    \n"
   ]
  },
  {
   "cell_type": "markdown",
   "metadata": {},
   "source": [
    "### Testing Python vs Cython speed"
   ]
  },
  {
   "cell_type": "code",
   "execution_count": 44,
   "metadata": {},
   "outputs": [
    {
     "name": "stdout",
     "output_type": "stream",
     "text": [
      "Total time for kurtosis sum (python) =  0.0010440349578857422\n"
     ]
    }
   ],
   "source": [
    "# Python \n",
    "\n",
    "# sum of log(Kurtosis(X[a] + 1)) of attributes 0 to d inclusive\n",
    "def kurtosis_sum(X, d):\n",
    "    sum = 0\n",
    "    \n",
    "    # loop over the transpose matrix in order to analyze by column\n",
    "    for a in range(0, d+1):\n",
    "        # + 4 since the scipy function for kurtosis subtracts 3 so +1 +3 = 4\n",
    "        sum += np.log(sstats.stats.kurtosis(X[:,a])+4)\n",
    "        \n",
    "    return sum\n",
    "\n",
    "t0 = time.time()\n",
    "test_data = np.array([[1],[2],[3],[4],[5],[6],[7],[8],[9],[10],[11],[12],[13],[14],[15],[20],[30],[40],[50],[60],[100],[200],[500],[550],[555],[600]])\n",
    "kurtosis_sum(test_data, 0)\n",
    "t1 = time.time()\n",
    "\n",
    "total = t1-t0\n",
    "print(\"Total time for kurtosis sum (python) = \", total)\n",
    "\n"
   ]
  },
  {
   "cell_type": "code",
   "execution_count": 52,
   "metadata": {},
   "outputs": [
    {
     "name": "stdout",
     "output_type": "stream",
     "text": [
      "Total time for kurtosis sum (cython) =  0.0017180442810058594\n"
     ]
    }
   ],
   "source": [
    "# Cython \n",
    "t0 = time.time()\n",
    "ks_cy.kurtosis_sum(test_data, 0)\n",
    "t1 = time.time()\n",
    "\n",
    "total = t1-t0\n",
    "print(\"Total time for kurtosis sum (cython) = \", total)"
   ]
  },
  {
   "cell_type": "code",
   "execution_count": null,
   "metadata": {},
   "outputs": [],
   "source": []
  },
  {
   "cell_type": "code",
   "execution_count": null,
   "metadata": {},
   "outputs": [],
   "source": []
  }
 ],
 "metadata": {
  "kernelspec": {
   "display_name": "Python 3",
   "language": "python",
   "name": "python3"
  },
  "language_info": {
   "codemirror_mode": {
    "name": "ipython",
    "version": 3
   },
   "file_extension": ".py",
   "mimetype": "text/x-python",
   "name": "python",
   "nbconvert_exporter": "python",
   "pygments_lexer": "ipython3",
   "version": "3.7.4"
  }
 },
 "nbformat": 4,
 "nbformat_minor": 2
}
